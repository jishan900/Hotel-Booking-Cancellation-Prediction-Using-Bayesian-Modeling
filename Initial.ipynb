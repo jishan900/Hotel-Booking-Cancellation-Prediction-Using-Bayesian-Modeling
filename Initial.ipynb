{
 "cells": [
  {
   "cell_type": "code",
   "execution_count": 47,
   "id": "44b1c216",
   "metadata": {},
   "outputs": [],
   "source": [
    "import numpy as np\n",
    "import pandas as pd \n",
    "import matplotlib.pyplot as plt\n",
    "import seaborn as sns\n",
    "from sklearn.model_selection import train_test_split\n",
    "from sklearn.preprocessing import StandardScaler\n",
    "from sklearn.ensemble import RandomForestClassifier\n",
    "from sklearn.metrics import accuracy_score, classification_report\n",
    "import pymc3 as pm"
   ]
  },
  {
   "cell_type": "code",
   "execution_count": 48,
   "id": "573f8598",
   "metadata": {},
   "outputs": [],
   "source": [
    "df = pd.read_csv('D:/Germany/Study Files-TUD/TU Dortmund/--------Semester-8-Winter Term--------2023-2024/Applied Bayesian Data Analysis/Project/booking.csv')"
   ]
  },
  {
   "cell_type": "code",
   "execution_count": 49,
   "id": "af3c1882",
   "metadata": {},
   "outputs": [
    {
     "data": {
      "text/html": [
       "<div>\n",
       "<style scoped>\n",
       "    .dataframe tbody tr th:only-of-type {\n",
       "        vertical-align: middle;\n",
       "    }\n",
       "\n",
       "    .dataframe tbody tr th {\n",
       "        vertical-align: top;\n",
       "    }\n",
       "\n",
       "    .dataframe thead th {\n",
       "        text-align: right;\n",
       "    }\n",
       "</style>\n",
       "<table border=\"1\" class=\"dataframe\">\n",
       "  <thead>\n",
       "    <tr style=\"text-align: right;\">\n",
       "      <th></th>\n",
       "      <th>Booking_ID</th>\n",
       "      <th>number of adults</th>\n",
       "      <th>number of children</th>\n",
       "      <th>number of weekend nights</th>\n",
       "      <th>number of week nights</th>\n",
       "      <th>type of meal</th>\n",
       "      <th>car parking space</th>\n",
       "      <th>room type</th>\n",
       "      <th>lead time</th>\n",
       "      <th>market segment type</th>\n",
       "      <th>repeated</th>\n",
       "      <th>P-C</th>\n",
       "      <th>P-not-C</th>\n",
       "      <th>average price</th>\n",
       "      <th>special requests</th>\n",
       "      <th>date of reservation</th>\n",
       "      <th>booking status</th>\n",
       "    </tr>\n",
       "  </thead>\n",
       "  <tbody>\n",
       "    <tr>\n",
       "      <th>0</th>\n",
       "      <td>INN00001</td>\n",
       "      <td>1</td>\n",
       "      <td>1</td>\n",
       "      <td>2</td>\n",
       "      <td>5</td>\n",
       "      <td>Meal Plan 1</td>\n",
       "      <td>0</td>\n",
       "      <td>Room_Type 1</td>\n",
       "      <td>224</td>\n",
       "      <td>Offline</td>\n",
       "      <td>0</td>\n",
       "      <td>0</td>\n",
       "      <td>0</td>\n",
       "      <td>88.00</td>\n",
       "      <td>0</td>\n",
       "      <td>10/2/2015</td>\n",
       "      <td>Not_Canceled</td>\n",
       "    </tr>\n",
       "    <tr>\n",
       "      <th>1</th>\n",
       "      <td>INN00002</td>\n",
       "      <td>1</td>\n",
       "      <td>0</td>\n",
       "      <td>1</td>\n",
       "      <td>3</td>\n",
       "      <td>Not Selected</td>\n",
       "      <td>0</td>\n",
       "      <td>Room_Type 1</td>\n",
       "      <td>5</td>\n",
       "      <td>Online</td>\n",
       "      <td>0</td>\n",
       "      <td>0</td>\n",
       "      <td>0</td>\n",
       "      <td>106.68</td>\n",
       "      <td>1</td>\n",
       "      <td>11/6/2018</td>\n",
       "      <td>Not_Canceled</td>\n",
       "    </tr>\n",
       "    <tr>\n",
       "      <th>2</th>\n",
       "      <td>INN00003</td>\n",
       "      <td>2</td>\n",
       "      <td>1</td>\n",
       "      <td>1</td>\n",
       "      <td>3</td>\n",
       "      <td>Meal Plan 1</td>\n",
       "      <td>0</td>\n",
       "      <td>Room_Type 1</td>\n",
       "      <td>1</td>\n",
       "      <td>Online</td>\n",
       "      <td>0</td>\n",
       "      <td>0</td>\n",
       "      <td>0</td>\n",
       "      <td>50.00</td>\n",
       "      <td>0</td>\n",
       "      <td>2/28/2018</td>\n",
       "      <td>Canceled</td>\n",
       "    </tr>\n",
       "  </tbody>\n",
       "</table>\n",
       "</div>"
      ],
      "text/plain": [
       "  Booking_ID  number of adults  number of children  number of weekend nights  \\\n",
       "0   INN00001                 1                   1                         2   \n",
       "1   INN00002                 1                   0                         1   \n",
       "2   INN00003                 2                   1                         1   \n",
       "\n",
       "   number of week nights  type of meal  car parking space    room type  \\\n",
       "0                      5   Meal Plan 1                  0  Room_Type 1   \n",
       "1                      3  Not Selected                  0  Room_Type 1   \n",
       "2                      3   Meal Plan 1                  0  Room_Type 1   \n",
       "\n",
       "   lead time market segment type  repeated  P-C  P-not-C  average price  \\\n",
       "0        224             Offline         0    0        0          88.00   \n",
       "1          5              Online         0    0        0         106.68   \n",
       "2          1              Online         0    0        0          50.00   \n",
       "\n",
       "   special requests date of reservation booking status  \n",
       "0                 0           10/2/2015   Not_Canceled  \n",
       "1                 1           11/6/2018   Not_Canceled  \n",
       "2                 0           2/28/2018       Canceled  "
      ]
     },
     "execution_count": 49,
     "metadata": {},
     "output_type": "execute_result"
    }
   ],
   "source": [
    "df.head(3)"
   ]
  },
  {
   "cell_type": "code",
   "execution_count": 50,
   "id": "d9187db1",
   "metadata": {},
   "outputs": [],
   "source": [
    "df.rename(columns={'Booking_ID':'Booking_ID','number of adults':'number_of_adults', 'number of children':'number_of_children',\n",
    "                   'number of weekend nights':'number_of_weekend_nights', 'number of week nights':'number_of_week_nights',\n",
    "                   'type of meal':'type_of_meal','car parking space':'car_parking_space', 'room type':'room_type',\n",
    "                   'lead time':'lead_time', 'market segment type':'market_segment_type','number of adults':'number_of_adults', 'average price':'average_price','special requests':'special_requests', \n",
    "                  'date of reservation':'date_of_reservation','booking status':'booking_status'}, inplace=True)"
   ]
  },
  {
   "cell_type": "code",
   "execution_count": 51,
   "id": "620a2cc9",
   "metadata": {},
   "outputs": [
    {
     "data": {
      "text/html": [
       "<div>\n",
       "<style scoped>\n",
       "    .dataframe tbody tr th:only-of-type {\n",
       "        vertical-align: middle;\n",
       "    }\n",
       "\n",
       "    .dataframe tbody tr th {\n",
       "        vertical-align: top;\n",
       "    }\n",
       "\n",
       "    .dataframe thead th {\n",
       "        text-align: right;\n",
       "    }\n",
       "</style>\n",
       "<table border=\"1\" class=\"dataframe\">\n",
       "  <thead>\n",
       "    <tr style=\"text-align: right;\">\n",
       "      <th></th>\n",
       "      <th>Booking_ID</th>\n",
       "      <th>number_of_adults</th>\n",
       "      <th>number_of_children</th>\n",
       "      <th>number_of_weekend_nights</th>\n",
       "      <th>number_of_week_nights</th>\n",
       "      <th>type_of_meal</th>\n",
       "      <th>car_parking_space</th>\n",
       "      <th>room_type</th>\n",
       "      <th>lead_time</th>\n",
       "      <th>market_segment_type</th>\n",
       "      <th>repeated</th>\n",
       "      <th>P-C</th>\n",
       "      <th>P-not-C</th>\n",
       "      <th>average_price</th>\n",
       "      <th>special_requests</th>\n",
       "      <th>date_of_reservation</th>\n",
       "      <th>booking_status</th>\n",
       "    </tr>\n",
       "  </thead>\n",
       "  <tbody>\n",
       "    <tr>\n",
       "      <th>0</th>\n",
       "      <td>INN00001</td>\n",
       "      <td>1</td>\n",
       "      <td>1</td>\n",
       "      <td>2</td>\n",
       "      <td>5</td>\n",
       "      <td>Meal Plan 1</td>\n",
       "      <td>0</td>\n",
       "      <td>Room_Type 1</td>\n",
       "      <td>224</td>\n",
       "      <td>Offline</td>\n",
       "      <td>0</td>\n",
       "      <td>0</td>\n",
       "      <td>0</td>\n",
       "      <td>88.00</td>\n",
       "      <td>0</td>\n",
       "      <td>10/2/2015</td>\n",
       "      <td>Not_Canceled</td>\n",
       "    </tr>\n",
       "    <tr>\n",
       "      <th>1</th>\n",
       "      <td>INN00002</td>\n",
       "      <td>1</td>\n",
       "      <td>0</td>\n",
       "      <td>1</td>\n",
       "      <td>3</td>\n",
       "      <td>Not Selected</td>\n",
       "      <td>0</td>\n",
       "      <td>Room_Type 1</td>\n",
       "      <td>5</td>\n",
       "      <td>Online</td>\n",
       "      <td>0</td>\n",
       "      <td>0</td>\n",
       "      <td>0</td>\n",
       "      <td>106.68</td>\n",
       "      <td>1</td>\n",
       "      <td>11/6/2018</td>\n",
       "      <td>Not_Canceled</td>\n",
       "    </tr>\n",
       "    <tr>\n",
       "      <th>2</th>\n",
       "      <td>INN00003</td>\n",
       "      <td>2</td>\n",
       "      <td>1</td>\n",
       "      <td>1</td>\n",
       "      <td>3</td>\n",
       "      <td>Meal Plan 1</td>\n",
       "      <td>0</td>\n",
       "      <td>Room_Type 1</td>\n",
       "      <td>1</td>\n",
       "      <td>Online</td>\n",
       "      <td>0</td>\n",
       "      <td>0</td>\n",
       "      <td>0</td>\n",
       "      <td>50.00</td>\n",
       "      <td>0</td>\n",
       "      <td>2/28/2018</td>\n",
       "      <td>Canceled</td>\n",
       "    </tr>\n",
       "  </tbody>\n",
       "</table>\n",
       "</div>"
      ],
      "text/plain": [
       "  Booking_ID  number_of_adults  number_of_children  number_of_weekend_nights  \\\n",
       "0   INN00001                 1                   1                         2   \n",
       "1   INN00002                 1                   0                         1   \n",
       "2   INN00003                 2                   1                         1   \n",
       "\n",
       "   number_of_week_nights  type_of_meal  car_parking_space    room_type  \\\n",
       "0                      5   Meal Plan 1                  0  Room_Type 1   \n",
       "1                      3  Not Selected                  0  Room_Type 1   \n",
       "2                      3   Meal Plan 1                  0  Room_Type 1   \n",
       "\n",
       "   lead_time market_segment_type  repeated  P-C  P-not-C  average_price  \\\n",
       "0        224             Offline         0    0        0          88.00   \n",
       "1          5              Online         0    0        0         106.68   \n",
       "2          1              Online         0    0        0          50.00   \n",
       "\n",
       "   special_requests date_of_reservation booking_status  \n",
       "0                 0           10/2/2015   Not_Canceled  \n",
       "1                 1           11/6/2018   Not_Canceled  \n",
       "2                 0           2/28/2018       Canceled  "
      ]
     },
     "execution_count": 51,
     "metadata": {},
     "output_type": "execute_result"
    }
   ],
   "source": [
    "df.head(3)"
   ]
  },
  {
   "cell_type": "code",
   "execution_count": 52,
   "id": "60bdf8e4",
   "metadata": {},
   "outputs": [
    {
     "data": {
      "text/html": [
       "<div>\n",
       "<style scoped>\n",
       "    .dataframe tbody tr th:only-of-type {\n",
       "        vertical-align: middle;\n",
       "    }\n",
       "\n",
       "    .dataframe tbody tr th {\n",
       "        vertical-align: top;\n",
       "    }\n",
       "\n",
       "    .dataframe thead th {\n",
       "        text-align: right;\n",
       "    }\n",
       "</style>\n",
       "<table border=\"1\" class=\"dataframe\">\n",
       "  <thead>\n",
       "    <tr style=\"text-align: right;\">\n",
       "      <th></th>\n",
       "      <th>Booking_ID</th>\n",
       "      <th>number_of_adults</th>\n",
       "      <th>number_of_children</th>\n",
       "      <th>number_of_weekend_nights</th>\n",
       "      <th>number_of_week_nights</th>\n",
       "      <th>type_of_meal</th>\n",
       "      <th>car_parking_space</th>\n",
       "      <th>room_type</th>\n",
       "      <th>lead_time</th>\n",
       "      <th>market_segment_type</th>\n",
       "      <th>repeated</th>\n",
       "      <th>P-C</th>\n",
       "      <th>P-not-C</th>\n",
       "      <th>average_price</th>\n",
       "      <th>special_requests</th>\n",
       "      <th>date_of_reservation</th>\n",
       "      <th>booking_status</th>\n",
       "    </tr>\n",
       "  </thead>\n",
       "  <tbody>\n",
       "    <tr>\n",
       "      <th>36282</th>\n",
       "      <td>INN36284</td>\n",
       "      <td>2</td>\n",
       "      <td>0</td>\n",
       "      <td>1</td>\n",
       "      <td>3</td>\n",
       "      <td>Meal Plan 1</td>\n",
       "      <td>0</td>\n",
       "      <td>Room_Type 4</td>\n",
       "      <td>83</td>\n",
       "      <td>Online</td>\n",
       "      <td>0</td>\n",
       "      <td>0</td>\n",
       "      <td>0</td>\n",
       "      <td>105.61</td>\n",
       "      <td>1</td>\n",
       "      <td>12/26/2018</td>\n",
       "      <td>Not_Canceled</td>\n",
       "    </tr>\n",
       "    <tr>\n",
       "      <th>36283</th>\n",
       "      <td>INN36285</td>\n",
       "      <td>3</td>\n",
       "      <td>0</td>\n",
       "      <td>0</td>\n",
       "      <td>4</td>\n",
       "      <td>Meal Plan 1</td>\n",
       "      <td>0</td>\n",
       "      <td>Room_Type 1</td>\n",
       "      <td>121</td>\n",
       "      <td>Offline</td>\n",
       "      <td>0</td>\n",
       "      <td>0</td>\n",
       "      <td>0</td>\n",
       "      <td>96.90</td>\n",
       "      <td>1</td>\n",
       "      <td>7/6/2018</td>\n",
       "      <td>Not_Canceled</td>\n",
       "    </tr>\n",
       "    <tr>\n",
       "      <th>36284</th>\n",
       "      <td>INN36286</td>\n",
       "      <td>2</td>\n",
       "      <td>0</td>\n",
       "      <td>0</td>\n",
       "      <td>5</td>\n",
       "      <td>Meal Plan 1</td>\n",
       "      <td>0</td>\n",
       "      <td>Room_Type 4</td>\n",
       "      <td>44</td>\n",
       "      <td>Online</td>\n",
       "      <td>0</td>\n",
       "      <td>0</td>\n",
       "      <td>0</td>\n",
       "      <td>133.44</td>\n",
       "      <td>3</td>\n",
       "      <td>10/18/2018</td>\n",
       "      <td>Not_Canceled</td>\n",
       "    </tr>\n",
       "  </tbody>\n",
       "</table>\n",
       "</div>"
      ],
      "text/plain": [
       "      Booking_ID  number_of_adults  number_of_children  \\\n",
       "36282   INN36284                 2                   0   \n",
       "36283   INN36285                 3                   0   \n",
       "36284   INN36286                 2                   0   \n",
       "\n",
       "       number_of_weekend_nights  number_of_week_nights type_of_meal  \\\n",
       "36282                         1                      3  Meal Plan 1   \n",
       "36283                         0                      4  Meal Plan 1   \n",
       "36284                         0                      5  Meal Plan 1   \n",
       "\n",
       "       car_parking_space    room_type  lead_time market_segment_type  \\\n",
       "36282                  0  Room_Type 4         83              Online   \n",
       "36283                  0  Room_Type 1        121             Offline   \n",
       "36284                  0  Room_Type 4         44              Online   \n",
       "\n",
       "       repeated  P-C  P-not-C  average_price  special_requests  \\\n",
       "36282         0    0        0         105.61                 1   \n",
       "36283         0    0        0          96.90                 1   \n",
       "36284         0    0        0         133.44                 3   \n",
       "\n",
       "      date_of_reservation booking_status  \n",
       "36282          12/26/2018   Not_Canceled  \n",
       "36283            7/6/2018   Not_Canceled  \n",
       "36284          10/18/2018   Not_Canceled  "
      ]
     },
     "execution_count": 52,
     "metadata": {},
     "output_type": "execute_result"
    }
   ],
   "source": [
    "df.tail(3)"
   ]
  },
  {
   "cell_type": "code",
   "execution_count": 53,
   "id": "04b883de",
   "metadata": {},
   "outputs": [
    {
     "data": {
      "text/plain": [
       "<bound method NDFrame.describe of       Booking_ID  number_of_adults  number_of_children  \\\n",
       "0       INN00001                 1                   1   \n",
       "1       INN00002                 1                   0   \n",
       "2       INN00003                 2                   1   \n",
       "3       INN00004                 1                   0   \n",
       "4       INN00005                 1                   0   \n",
       "...          ...               ...                 ...   \n",
       "36280   INN36282                 2                   0   \n",
       "36281   INN36283                 2                   0   \n",
       "36282   INN36284                 2                   0   \n",
       "36283   INN36285                 3                   0   \n",
       "36284   INN36286                 2                   0   \n",
       "\n",
       "       number_of_weekend_nights  number_of_week_nights  type_of_meal  \\\n",
       "0                             2                      5   Meal Plan 1   \n",
       "1                             1                      3  Not Selected   \n",
       "2                             1                      3   Meal Plan 1   \n",
       "3                             0                      2   Meal Plan 1   \n",
       "4                             1                      2  Not Selected   \n",
       "...                         ...                    ...           ...   \n",
       "36280                         0                      2   Meal Plan 2   \n",
       "36281                         1                      3   Meal Plan 1   \n",
       "36282                         1                      3   Meal Plan 1   \n",
       "36283                         0                      4   Meal Plan 1   \n",
       "36284                         0                      5   Meal Plan 1   \n",
       "\n",
       "       car_parking_space    room_type  lead_time market_segment_type  \\\n",
       "0                      0  Room_Type 1        224             Offline   \n",
       "1                      0  Room_Type 1          5              Online   \n",
       "2                      0  Room_Type 1          1              Online   \n",
       "3                      0  Room_Type 1        211              Online   \n",
       "4                      0  Room_Type 1         48              Online   \n",
       "...                  ...          ...        ...                 ...   \n",
       "36280                  0  Room_Type 1        346              Online   \n",
       "36281                  0  Room_Type 1         34              Online   \n",
       "36282                  0  Room_Type 4         83              Online   \n",
       "36283                  0  Room_Type 1        121             Offline   \n",
       "36284                  0  Room_Type 4         44              Online   \n",
       "\n",
       "       repeated  P-C  P-not-C  average_price  special_requests  \\\n",
       "0             0    0        0          88.00                 0   \n",
       "1             0    0        0         106.68                 1   \n",
       "2             0    0        0          50.00                 0   \n",
       "3             0    0        0         100.00                 1   \n",
       "4             0    0        0          77.00                 0   \n",
       "...         ...  ...      ...            ...               ...   \n",
       "36280         0    0        0         115.00                 1   \n",
       "36281         0    0        0         107.55                 1   \n",
       "36282         0    0        0         105.61                 1   \n",
       "36283         0    0        0          96.90                 1   \n",
       "36284         0    0        0         133.44                 3   \n",
       "\n",
       "      date_of_reservation booking_status  \n",
       "0               10/2/2015   Not_Canceled  \n",
       "1               11/6/2018   Not_Canceled  \n",
       "2               2/28/2018       Canceled  \n",
       "3               5/20/2017       Canceled  \n",
       "4               4/11/2018       Canceled  \n",
       "...                   ...            ...  \n",
       "36280           9/13/2018       Canceled  \n",
       "36281          10/15/2017   Not_Canceled  \n",
       "36282          12/26/2018   Not_Canceled  \n",
       "36283            7/6/2018   Not_Canceled  \n",
       "36284          10/18/2018   Not_Canceled  \n",
       "\n",
       "[36285 rows x 17 columns]>"
      ]
     },
     "execution_count": 53,
     "metadata": {},
     "output_type": "execute_result"
    }
   ],
   "source": [
    "df.describe"
   ]
  },
  {
   "cell_type": "code",
   "execution_count": 54,
   "id": "6f1ad5ff",
   "metadata": {},
   "outputs": [
    {
     "data": {
      "text/plain": [
       "(36285, 17)"
      ]
     },
     "execution_count": 54,
     "metadata": {},
     "output_type": "execute_result"
    }
   ],
   "source": [
    "df.shape"
   ]
  },
  {
   "cell_type": "code",
   "execution_count": 55,
   "id": "8e7406ee",
   "metadata": {},
   "outputs": [
    {
     "data": {
      "text/plain": [
       "Index(['Booking_ID', 'number_of_adults', 'number_of_children',\n",
       "       'number_of_weekend_nights', 'number_of_week_nights', 'type_of_meal',\n",
       "       'car_parking_space', 'room_type', 'lead_time', 'market_segment_type',\n",
       "       'repeated', 'P-C', 'P-not-C', 'average_price', 'special_requests',\n",
       "       'date_of_reservation', 'booking_status'],\n",
       "      dtype='object')"
      ]
     },
     "execution_count": 55,
     "metadata": {},
     "output_type": "execute_result"
    }
   ],
   "source": [
    "df.columns"
   ]
  },
  {
   "cell_type": "code",
   "execution_count": 56,
   "id": "97a465c5",
   "metadata": {},
   "outputs": [
    {
     "data": {
      "text/plain": [
       "Booking_ID                  0\n",
       "number_of_adults            0\n",
       "number_of_children          0\n",
       "number_of_weekend_nights    0\n",
       "number_of_week_nights       0\n",
       "type_of_meal                0\n",
       "car_parking_space           0\n",
       "room_type                   0\n",
       "lead_time                   0\n",
       "market_segment_type         0\n",
       "repeated                    0\n",
       "P-C                         0\n",
       "P-not-C                     0\n",
       "average_price               0\n",
       "special_requests            0\n",
       "date_of_reservation         0\n",
       "booking_status              0\n",
       "dtype: int64"
      ]
     },
     "execution_count": 56,
     "metadata": {},
     "output_type": "execute_result"
    }
   ],
   "source": [
    "df.isna().sum()"
   ]
  },
  {
   "cell_type": "code",
   "execution_count": 57,
   "id": "1cff263a",
   "metadata": {},
   "outputs": [
    {
     "name": "stdout",
     "output_type": "stream",
     "text": [
      "<class 'pandas.core.frame.DataFrame'>\n",
      "RangeIndex: 36285 entries, 0 to 36284\n",
      "Data columns (total 17 columns):\n",
      " #   Column                    Non-Null Count  Dtype  \n",
      "---  ------                    --------------  -----  \n",
      " 0   Booking_ID                36285 non-null  object \n",
      " 1   number_of_adults          36285 non-null  int64  \n",
      " 2   number_of_children        36285 non-null  int64  \n",
      " 3   number_of_weekend_nights  36285 non-null  int64  \n",
      " 4   number_of_week_nights     36285 non-null  int64  \n",
      " 5   type_of_meal              36285 non-null  object \n",
      " 6   car_parking_space         36285 non-null  int64  \n",
      " 7   room_type                 36285 non-null  object \n",
      " 8   lead_time                 36285 non-null  int64  \n",
      " 9   market_segment_type       36285 non-null  object \n",
      " 10  repeated                  36285 non-null  int64  \n",
      " 11  P-C                       36285 non-null  int64  \n",
      " 12  P-not-C                   36285 non-null  int64  \n",
      " 13  average_price             36285 non-null  float64\n",
      " 14  special_requests          36285 non-null  int64  \n",
      " 15  date_of_reservation       36285 non-null  object \n",
      " 16  booking_status            36285 non-null  object \n",
      "dtypes: float64(1), int64(10), object(6)\n",
      "memory usage: 4.7+ MB\n"
     ]
    }
   ],
   "source": [
    "df.info()"
   ]
  },
  {
   "cell_type": "code",
   "execution_count": 58,
   "id": "4a422828",
   "metadata": {},
   "outputs": [
    {
     "name": "stdout",
     "output_type": "stream",
     "text": [
      "Not_Canceled    24396\n",
      "Canceled        11889\n",
      "Name: booking_status, dtype: int64\n"
     ]
    }
   ],
   "source": [
    "df['booking_status'].value_counts()\n",
    "print(df['booking_status'].value_counts())"
   ]
  },
  {
   "cell_type": "code",
   "execution_count": 59,
   "id": "b0e0ca57",
   "metadata": {},
   "outputs": [],
   "source": [
    "df = df.drop(['Booking_ID', 'date_of_reservation'], axis=1)"
   ]
  },
  {
   "cell_type": "code",
   "execution_count": 60,
   "id": "b92ee00f",
   "metadata": {},
   "outputs": [
    {
     "data": {
      "text/html": [
       "<div>\n",
       "<style scoped>\n",
       "    .dataframe tbody tr th:only-of-type {\n",
       "        vertical-align: middle;\n",
       "    }\n",
       "\n",
       "    .dataframe tbody tr th {\n",
       "        vertical-align: top;\n",
       "    }\n",
       "\n",
       "    .dataframe thead th {\n",
       "        text-align: right;\n",
       "    }\n",
       "</style>\n",
       "<table border=\"1\" class=\"dataframe\">\n",
       "  <thead>\n",
       "    <tr style=\"text-align: right;\">\n",
       "      <th></th>\n",
       "      <th>number_of_adults</th>\n",
       "      <th>number_of_children</th>\n",
       "      <th>number_of_weekend_nights</th>\n",
       "      <th>number_of_week_nights</th>\n",
       "      <th>type_of_meal</th>\n",
       "      <th>car_parking_space</th>\n",
       "      <th>room_type</th>\n",
       "      <th>lead_time</th>\n",
       "      <th>market_segment_type</th>\n",
       "      <th>repeated</th>\n",
       "      <th>P-C</th>\n",
       "      <th>P-not-C</th>\n",
       "      <th>average_price</th>\n",
       "      <th>special_requests</th>\n",
       "      <th>booking_status</th>\n",
       "    </tr>\n",
       "  </thead>\n",
       "  <tbody>\n",
       "    <tr>\n",
       "      <th>0</th>\n",
       "      <td>1</td>\n",
       "      <td>1</td>\n",
       "      <td>2</td>\n",
       "      <td>5</td>\n",
       "      <td>Meal Plan 1</td>\n",
       "      <td>0</td>\n",
       "      <td>Room_Type 1</td>\n",
       "      <td>224</td>\n",
       "      <td>Offline</td>\n",
       "      <td>0</td>\n",
       "      <td>0</td>\n",
       "      <td>0</td>\n",
       "      <td>88.00</td>\n",
       "      <td>0</td>\n",
       "      <td>Not_Canceled</td>\n",
       "    </tr>\n",
       "    <tr>\n",
       "      <th>1</th>\n",
       "      <td>1</td>\n",
       "      <td>0</td>\n",
       "      <td>1</td>\n",
       "      <td>3</td>\n",
       "      <td>Not Selected</td>\n",
       "      <td>0</td>\n",
       "      <td>Room_Type 1</td>\n",
       "      <td>5</td>\n",
       "      <td>Online</td>\n",
       "      <td>0</td>\n",
       "      <td>0</td>\n",
       "      <td>0</td>\n",
       "      <td>106.68</td>\n",
       "      <td>1</td>\n",
       "      <td>Not_Canceled</td>\n",
       "    </tr>\n",
       "    <tr>\n",
       "      <th>2</th>\n",
       "      <td>2</td>\n",
       "      <td>1</td>\n",
       "      <td>1</td>\n",
       "      <td>3</td>\n",
       "      <td>Meal Plan 1</td>\n",
       "      <td>0</td>\n",
       "      <td>Room_Type 1</td>\n",
       "      <td>1</td>\n",
       "      <td>Online</td>\n",
       "      <td>0</td>\n",
       "      <td>0</td>\n",
       "      <td>0</td>\n",
       "      <td>50.00</td>\n",
       "      <td>0</td>\n",
       "      <td>Canceled</td>\n",
       "    </tr>\n",
       "    <tr>\n",
       "      <th>3</th>\n",
       "      <td>1</td>\n",
       "      <td>0</td>\n",
       "      <td>0</td>\n",
       "      <td>2</td>\n",
       "      <td>Meal Plan 1</td>\n",
       "      <td>0</td>\n",
       "      <td>Room_Type 1</td>\n",
       "      <td>211</td>\n",
       "      <td>Online</td>\n",
       "      <td>0</td>\n",
       "      <td>0</td>\n",
       "      <td>0</td>\n",
       "      <td>100.00</td>\n",
       "      <td>1</td>\n",
       "      <td>Canceled</td>\n",
       "    </tr>\n",
       "    <tr>\n",
       "      <th>4</th>\n",
       "      <td>1</td>\n",
       "      <td>0</td>\n",
       "      <td>1</td>\n",
       "      <td>2</td>\n",
       "      <td>Not Selected</td>\n",
       "      <td>0</td>\n",
       "      <td>Room_Type 1</td>\n",
       "      <td>48</td>\n",
       "      <td>Online</td>\n",
       "      <td>0</td>\n",
       "      <td>0</td>\n",
       "      <td>0</td>\n",
       "      <td>77.00</td>\n",
       "      <td>0</td>\n",
       "      <td>Canceled</td>\n",
       "    </tr>\n",
       "    <tr>\n",
       "      <th>...</th>\n",
       "      <td>...</td>\n",
       "      <td>...</td>\n",
       "      <td>...</td>\n",
       "      <td>...</td>\n",
       "      <td>...</td>\n",
       "      <td>...</td>\n",
       "      <td>...</td>\n",
       "      <td>...</td>\n",
       "      <td>...</td>\n",
       "      <td>...</td>\n",
       "      <td>...</td>\n",
       "      <td>...</td>\n",
       "      <td>...</td>\n",
       "      <td>...</td>\n",
       "      <td>...</td>\n",
       "    </tr>\n",
       "    <tr>\n",
       "      <th>36280</th>\n",
       "      <td>2</td>\n",
       "      <td>0</td>\n",
       "      <td>0</td>\n",
       "      <td>2</td>\n",
       "      <td>Meal Plan 2</td>\n",
       "      <td>0</td>\n",
       "      <td>Room_Type 1</td>\n",
       "      <td>346</td>\n",
       "      <td>Online</td>\n",
       "      <td>0</td>\n",
       "      <td>0</td>\n",
       "      <td>0</td>\n",
       "      <td>115.00</td>\n",
       "      <td>1</td>\n",
       "      <td>Canceled</td>\n",
       "    </tr>\n",
       "    <tr>\n",
       "      <th>36281</th>\n",
       "      <td>2</td>\n",
       "      <td>0</td>\n",
       "      <td>1</td>\n",
       "      <td>3</td>\n",
       "      <td>Meal Plan 1</td>\n",
       "      <td>0</td>\n",
       "      <td>Room_Type 1</td>\n",
       "      <td>34</td>\n",
       "      <td>Online</td>\n",
       "      <td>0</td>\n",
       "      <td>0</td>\n",
       "      <td>0</td>\n",
       "      <td>107.55</td>\n",
       "      <td>1</td>\n",
       "      <td>Not_Canceled</td>\n",
       "    </tr>\n",
       "    <tr>\n",
       "      <th>36282</th>\n",
       "      <td>2</td>\n",
       "      <td>0</td>\n",
       "      <td>1</td>\n",
       "      <td>3</td>\n",
       "      <td>Meal Plan 1</td>\n",
       "      <td>0</td>\n",
       "      <td>Room_Type 4</td>\n",
       "      <td>83</td>\n",
       "      <td>Online</td>\n",
       "      <td>0</td>\n",
       "      <td>0</td>\n",
       "      <td>0</td>\n",
       "      <td>105.61</td>\n",
       "      <td>1</td>\n",
       "      <td>Not_Canceled</td>\n",
       "    </tr>\n",
       "    <tr>\n",
       "      <th>36283</th>\n",
       "      <td>3</td>\n",
       "      <td>0</td>\n",
       "      <td>0</td>\n",
       "      <td>4</td>\n",
       "      <td>Meal Plan 1</td>\n",
       "      <td>0</td>\n",
       "      <td>Room_Type 1</td>\n",
       "      <td>121</td>\n",
       "      <td>Offline</td>\n",
       "      <td>0</td>\n",
       "      <td>0</td>\n",
       "      <td>0</td>\n",
       "      <td>96.90</td>\n",
       "      <td>1</td>\n",
       "      <td>Not_Canceled</td>\n",
       "    </tr>\n",
       "    <tr>\n",
       "      <th>36284</th>\n",
       "      <td>2</td>\n",
       "      <td>0</td>\n",
       "      <td>0</td>\n",
       "      <td>5</td>\n",
       "      <td>Meal Plan 1</td>\n",
       "      <td>0</td>\n",
       "      <td>Room_Type 4</td>\n",
       "      <td>44</td>\n",
       "      <td>Online</td>\n",
       "      <td>0</td>\n",
       "      <td>0</td>\n",
       "      <td>0</td>\n",
       "      <td>133.44</td>\n",
       "      <td>3</td>\n",
       "      <td>Not_Canceled</td>\n",
       "    </tr>\n",
       "  </tbody>\n",
       "</table>\n",
       "<p>36285 rows × 15 columns</p>\n",
       "</div>"
      ],
      "text/plain": [
       "       number_of_adults  number_of_children  number_of_weekend_nights  \\\n",
       "0                     1                   1                         2   \n",
       "1                     1                   0                         1   \n",
       "2                     2                   1                         1   \n",
       "3                     1                   0                         0   \n",
       "4                     1                   0                         1   \n",
       "...                 ...                 ...                       ...   \n",
       "36280                 2                   0                         0   \n",
       "36281                 2                   0                         1   \n",
       "36282                 2                   0                         1   \n",
       "36283                 3                   0                         0   \n",
       "36284                 2                   0                         0   \n",
       "\n",
       "       number_of_week_nights  type_of_meal  car_parking_space    room_type  \\\n",
       "0                          5   Meal Plan 1                  0  Room_Type 1   \n",
       "1                          3  Not Selected                  0  Room_Type 1   \n",
       "2                          3   Meal Plan 1                  0  Room_Type 1   \n",
       "3                          2   Meal Plan 1                  0  Room_Type 1   \n",
       "4                          2  Not Selected                  0  Room_Type 1   \n",
       "...                      ...           ...                ...          ...   \n",
       "36280                      2   Meal Plan 2                  0  Room_Type 1   \n",
       "36281                      3   Meal Plan 1                  0  Room_Type 1   \n",
       "36282                      3   Meal Plan 1                  0  Room_Type 4   \n",
       "36283                      4   Meal Plan 1                  0  Room_Type 1   \n",
       "36284                      5   Meal Plan 1                  0  Room_Type 4   \n",
       "\n",
       "       lead_time market_segment_type  repeated  P-C  P-not-C  average_price  \\\n",
       "0            224             Offline         0    0        0          88.00   \n",
       "1              5              Online         0    0        0         106.68   \n",
       "2              1              Online         0    0        0          50.00   \n",
       "3            211              Online         0    0        0         100.00   \n",
       "4             48              Online         0    0        0          77.00   \n",
       "...          ...                 ...       ...  ...      ...            ...   \n",
       "36280        346              Online         0    0        0         115.00   \n",
       "36281         34              Online         0    0        0         107.55   \n",
       "36282         83              Online         0    0        0         105.61   \n",
       "36283        121             Offline         0    0        0          96.90   \n",
       "36284         44              Online         0    0        0         133.44   \n",
       "\n",
       "       special_requests booking_status  \n",
       "0                     0   Not_Canceled  \n",
       "1                     1   Not_Canceled  \n",
       "2                     0       Canceled  \n",
       "3                     1       Canceled  \n",
       "4                     0       Canceled  \n",
       "...                 ...            ...  \n",
       "36280                 1       Canceled  \n",
       "36281                 1   Not_Canceled  \n",
       "36282                 1   Not_Canceled  \n",
       "36283                 1   Not_Canceled  \n",
       "36284                 3   Not_Canceled  \n",
       "\n",
       "[36285 rows x 15 columns]"
      ]
     },
     "execution_count": 60,
     "metadata": {},
     "output_type": "execute_result"
    }
   ],
   "source": [
    "df"
   ]
  },
  {
   "cell_type": "code",
   "execution_count": 61,
   "id": "b8f5afe2",
   "metadata": {},
   "outputs": [],
   "source": [
    "df = pd.get_dummies(df, columns=['type_of_meal', 'room_type', 'market_segment_type'])"
   ]
  },
  {
   "cell_type": "code",
   "execution_count": 62,
   "id": "cbb47e97",
   "metadata": {},
   "outputs": [
    {
     "name": "stdout",
     "output_type": "stream",
     "text": [
      "<class 'pandas.core.frame.DataFrame'>\n",
      "RangeIndex: 36285 entries, 0 to 36284\n",
      "Data columns (total 28 columns):\n",
      " #   Column                             Non-Null Count  Dtype  \n",
      "---  ------                             --------------  -----  \n",
      " 0   number_of_adults                   36285 non-null  int64  \n",
      " 1   number_of_children                 36285 non-null  int64  \n",
      " 2   number_of_weekend_nights           36285 non-null  int64  \n",
      " 3   number_of_week_nights              36285 non-null  int64  \n",
      " 4   car_parking_space                  36285 non-null  int64  \n",
      " 5   lead_time                          36285 non-null  int64  \n",
      " 6   repeated                           36285 non-null  int64  \n",
      " 7   P-C                                36285 non-null  int64  \n",
      " 8   P-not-C                            36285 non-null  int64  \n",
      " 9   average_price                      36285 non-null  float64\n",
      " 10  special_requests                   36285 non-null  int64  \n",
      " 11  booking_status                     36285 non-null  object \n",
      " 12  type_of_meal_Meal Plan 1           36285 non-null  uint8  \n",
      " 13  type_of_meal_Meal Plan 2           36285 non-null  uint8  \n",
      " 14  type_of_meal_Meal Plan 3           36285 non-null  uint8  \n",
      " 15  type_of_meal_Not Selected          36285 non-null  uint8  \n",
      " 16  room_type_Room_Type 1              36285 non-null  uint8  \n",
      " 17  room_type_Room_Type 2              36285 non-null  uint8  \n",
      " 18  room_type_Room_Type 3              36285 non-null  uint8  \n",
      " 19  room_type_Room_Type 4              36285 non-null  uint8  \n",
      " 20  room_type_Room_Type 5              36285 non-null  uint8  \n",
      " 21  room_type_Room_Type 6              36285 non-null  uint8  \n",
      " 22  room_type_Room_Type 7              36285 non-null  uint8  \n",
      " 23  market_segment_type_Aviation       36285 non-null  uint8  \n",
      " 24  market_segment_type_Complementary  36285 non-null  uint8  \n",
      " 25  market_segment_type_Corporate      36285 non-null  uint8  \n",
      " 26  market_segment_type_Offline        36285 non-null  uint8  \n",
      " 27  market_segment_type_Online         36285 non-null  uint8  \n",
      "dtypes: float64(1), int64(10), object(1), uint8(16)\n",
      "memory usage: 3.9+ MB\n"
     ]
    }
   ],
   "source": [
    "df.info()"
   ]
  },
  {
   "cell_type": "code",
   "execution_count": 63,
   "id": "265a4639",
   "metadata": {},
   "outputs": [],
   "source": [
    "X = df.drop('booking_status', axis=1)\n",
    "y = df['booking_status']"
   ]
  },
  {
   "cell_type": "code",
   "execution_count": 64,
   "id": "25a80595",
   "metadata": {},
   "outputs": [],
   "source": [
    "X_train, X_test, y_train, y_test = train_test_split(X, y, test_size=0.3, random_state=42)"
   ]
  },
  {
   "cell_type": "code",
   "execution_count": 65,
   "id": "5c2fef64",
   "metadata": {},
   "outputs": [
    {
     "data": {
      "text/plain": [
       "RandomForestClassifier()"
      ]
     },
     "execution_count": 65,
     "metadata": {},
     "output_type": "execute_result"
    }
   ],
   "source": [
    "model = RandomForestClassifier()\n",
    "model.fit(X_train, y_train)"
   ]
  },
  {
   "cell_type": "code",
   "execution_count": 66,
   "id": "1b2ec29b",
   "metadata": {},
   "outputs": [
    {
     "name": "stdout",
     "output_type": "stream",
     "text": [
      "lead_time                            0.408340\n",
      "average_price                        0.239692\n",
      "special_requests                     0.107625\n",
      "number_of_week_nights                0.066054\n",
      "number_of_weekend_nights             0.042196\n",
      "number_of_adults                     0.027225\n",
      "market_segment_type_Online           0.026971\n",
      "market_segment_type_Offline          0.018659\n",
      "type_of_meal_Meal Plan 2             0.007875\n",
      "number_of_children                   0.007856\n",
      "car_parking_space                    0.007044\n",
      "type_of_meal_Meal Plan 1             0.006408\n",
      "room_type_Room_Type 4                0.006312\n",
      "room_type_Room_Type 1                0.006048\n",
      "market_segment_type_Corporate        0.005525\n",
      "type_of_meal_Not Selected            0.004584\n",
      "repeated                             0.002731\n",
      "room_type_Room_Type 2                0.002054\n",
      "room_type_Room_Type 5                0.001694\n",
      "P-not-C                              0.001568\n",
      "room_type_Room_Type 6                0.001508\n",
      "market_segment_type_Complementary    0.000766\n",
      "room_type_Room_Type 7                0.000451\n",
      "P-C                                  0.000389\n",
      "market_segment_type_Aviation         0.000296\n",
      "type_of_meal_Meal Plan 3             0.000075\n",
      "room_type_Room_Type 3                0.000053\n",
      "dtype: float64\n"
     ]
    }
   ],
   "source": [
    "feature_importances = pd.Series(model.feature_importances_, index=X.columns)\n",
    "feature_importances.sort_values(ascending=False, inplace=True)\n",
    "print(feature_importances)"
   ]
  },
  {
   "cell_type": "code",
   "execution_count": 67,
   "id": "a33f0b0e",
   "metadata": {},
   "outputs": [
    {
     "name": "stdout",
     "output_type": "stream",
     "text": [
      "Index(['number_of_adults', 'number_of_children', 'number_of_weekend_nights',\n",
      "       'number_of_week_nights', 'car_parking_space', 'lead_time', 'repeated',\n",
      "       'P-C', 'P-not-C', 'average_price', 'special_requests', 'booking_status',\n",
      "       'type_of_meal_Meal Plan 1', 'type_of_meal_Meal Plan 2',\n",
      "       'type_of_meal_Meal Plan 3', 'type_of_meal_Not Selected',\n",
      "       'room_type_Room_Type 1', 'room_type_Room_Type 2',\n",
      "       'room_type_Room_Type 3', 'room_type_Room_Type 4',\n",
      "       'room_type_Room_Type 5', 'room_type_Room_Type 6',\n",
      "       'room_type_Room_Type 7', 'market_segment_type_Aviation',\n",
      "       'market_segment_type_Complementary', 'market_segment_type_Corporate',\n",
      "       'market_segment_type_Offline', 'market_segment_type_Online'],\n",
      "      dtype='object')\n"
     ]
    }
   ],
   "source": [
    "print(df.columns)"
   ]
  },
  {
   "cell_type": "markdown",
   "id": "4367dcf7",
   "metadata": {},
   "source": [
    "####GLM''''''####"
   ]
  },
  {
   "cell_type": "code",
   "execution_count": 68,
   "id": "684a0798",
   "metadata": {},
   "outputs": [
    {
     "name": "stderr",
     "output_type": "stream",
     "text": [
      "The glm module is deprecated and will be removed in version 4.0\n",
      "We recommend to instead use Bambi https://bambinos.github.io/bambi/\n",
      "C:\\Users\\Jishan\\anaconda3\\lib\\site-packages\\deprecat\\classic.py:215: FutureWarning: In v4.0, pm.sample will return an `arviz.InferenceData` object instead of a `MultiTrace` by default. You can pass return_inferencedata=True or return_inferencedata=False to be safe and silence this warning.\n",
      "  return wrapped_(*args_, **kwargs_)\n",
      "Only 10 samples in chain.\n",
      "Auto-assigning NUTS sampler...\n",
      "Initializing NUTS using jitter+adapt_diag...\n",
      "C:\\Users\\Jishan\\anaconda3\\lib\\site-packages\\theano\\tensor\\elemwise.py:826: RuntimeWarning: divide by zero encountered in log\n",
      "  variables = ufunc(*ufunc_args, **ufunc_kwargs)\n",
      "C:\\Users\\Jishan\\anaconda3\\lib\\site-packages\\theano\\tensor\\elemwise.py:826: RuntimeWarning: invalid value encountered in multiply\n",
      "  variables = ufunc(*ufunc_args, **ufunc_kwargs)\n",
      "Multiprocess sampling (4 chains in 4 jobs)\n",
      "NUTS: [sd, special_requests, number_of_week_nights, number_of_weekend_nights, number_of_children, number_of_adults, lead_time, Intercept]\n"
     ]
    },
    {
     "data": {
      "text/html": [
       "\n",
       "<style>\n",
       "    /* Turns off some styling */\n",
       "    progress {\n",
       "        /* gets rid of default border in Firefox and Opera. */\n",
       "        border: none;\n",
       "        /* Needs to be in here for Safari polyfill so background images work as expected. */\n",
       "        background-size: auto;\n",
       "    }\n",
       "    progress:not([value]), progress:not([value])::-webkit-progress-bar {\n",
       "        background: repeating-linear-gradient(45deg, #7e7e7e, #7e7e7e 10px, #5c5c5c 10px, #5c5c5c 20px);\n",
       "    }\n",
       "    .progress-bar-interrupted, .progress-bar-interrupted::-webkit-progress-bar {\n",
       "        background: #F44336;\n",
       "    }\n",
       "</style>\n"
      ],
      "text/plain": [
       "<IPython.core.display.HTML object>"
      ]
     },
     "metadata": {},
     "output_type": "display_data"
    },
    {
     "data": {
      "text/html": [
       "\n",
       "    <div>\n",
       "      <progress value='240' class='' max='240' style='width:300px; height:20px; vertical-align: middle;'></progress>\n",
       "      100.00% [240/240 36:03&lt;00:00 Sampling 4 chains, 2 divergences]\n",
       "    </div>\n",
       "    "
      ],
      "text/plain": [
       "<IPython.core.display.HTML object>"
      ]
     },
     "metadata": {},
     "output_type": "display_data"
    },
    {
     "name": "stderr",
     "output_type": "stream",
     "text": [
      "Sampling 4 chains for 50 tune and 10 draw iterations (200 + 40 draws total) took 2182 seconds.\n",
      "C:\\Users\\Jishan\\anaconda3\\lib\\site-packages\\pymc3\\sampling.py:659: UserWarning: The number of samples is too small to check convergence reliably.\n",
      "  warnings.warn(\"The number of samples is too small to check convergence reliably.\")\n",
      "There was 1 divergence after tuning. Increase `target_accept` or reparameterize.\n",
      "There was 1 divergence after tuning. Increase `target_accept` or reparameterize.\n",
      "Got error No model on context stack. trying to find log_likelihood in translation.\n",
      "C:\\Users\\Jishan\\anaconda3\\lib\\site-packages\\arviz\\data\\io_pymc3_3x.py:98: FutureWarning: Using `from_pymc3` without the model will be deprecated in a future release. Not using the model will return less accurate and less useful results. Make sure you use the model argument or call from_pymc3 within a model context.\n",
      "  warnings.warn(\n"
     ]
    },
    {
     "name": "stdout",
     "output_type": "stream",
     "text": [
      "                           mean     sd  hdi_3%  hdi_97%  mcse_mean  mcse_sd  \\\n",
      "Intercept                 0.052  0.625  -0.984    0.553      0.198    0.144   \n",
      "lead_time                -0.087  0.126  -0.304    0.002      0.040    0.029   \n",
      "number_of_adults          0.095  0.289  -0.260    0.538      0.091    0.067   \n",
      "number_of_children        0.033  0.656  -0.918    0.824      0.207    0.151   \n",
      "number_of_weekend_nights  0.096  0.655  -0.775    0.766      0.207    0.151   \n",
      "number_of_week_nights    -0.135  0.396  -0.601    0.464      0.125    0.091   \n",
      "special_requests          0.505  0.564  -0.447    0.993      0.178    0.130   \n",
      "sd                        1.100  0.654   0.385    1.971      0.207    0.151   \n",
      "\n",
      "                          ess_bulk  ess_tail  r_hat  \n",
      "Intercept                     10.0      20.0   4.46  \n",
      "lead_time                     10.0      20.0   4.10  \n",
      "number_of_adults              11.0      28.0   3.52  \n",
      "number_of_children            11.0      20.0   3.68  \n",
      "number_of_weekend_nights      10.0      20.0   4.79  \n",
      "number_of_week_nights         10.0      20.0   4.79  \n",
      "special_requests              10.0      20.0   4.66  \n",
      "sd                            10.0      20.0   4.79  \n"
     ]
    }
   ],
   "source": [
    "with pm.Model() as bayesian_model:\n",
    "    # Define your Bayesian model here\n",
    "    # For example, use a logistic regression model\n",
    "    pm.glm.GLM.from_formula('booking_status ~ lead_time + number_of_adults + number_of_children + number_of_weekend_nights + number_of_week_nights + special_requests', df)\n",
    "    trace = pm.sample(10, tune=50)\n",
    "\n",
    "# Check the summary of the Bayesian model  #average_price is also important. so need to add next training.\n",
    "print(pm.summary(trace))\n"
   ]
  },
  {
   "cell_type": "code",
   "execution_count": null,
   "id": "ad8b6a29",
   "metadata": {},
   "outputs": [],
   "source": []
  },
  {
   "cell_type": "code",
   "execution_count": 94,
   "id": "390fbf97",
   "metadata": {},
   "outputs": [
    {
     "name": "stdout",
     "output_type": "stream",
     "text": [
      "Lead time values: -0.30433397627705383\n",
      "Length of y_test: 10886\n",
      "Shape of lead_time_values: ()\n",
      "Values in lead_time_values: -0.30433397627705383\n",
      "Shape of condition_result: ()\n"
     ]
    },
    {
     "ename": "TypeError",
     "evalue": "Singleton array 1 cannot be considered a valid collection.",
     "output_type": "error",
     "traceback": [
      "\u001b[1;31m---------------------------------------------------------------------------\u001b[0m",
      "\u001b[1;31mTypeError\u001b[0m                                 Traceback (most recent call last)",
      "\u001b[1;32m~\\AppData\\Local\\Temp\\ipykernel_20348\\136084591.py\u001b[0m in \u001b[0;36m<module>\u001b[1;34m\u001b[0m\n\u001b[0;32m     16\u001b[0m \u001b[1;33m\u001b[0m\u001b[0m\n\u001b[0;32m     17\u001b[0m \u001b[1;31m# Evaluate the performance of the Bayesian model\u001b[0m\u001b[1;33m\u001b[0m\u001b[1;33m\u001b[0m\u001b[0m\n\u001b[1;32m---> 18\u001b[1;33m \u001b[0maccuracy\u001b[0m \u001b[1;33m=\u001b[0m \u001b[0maccuracy_score\u001b[0m\u001b[1;33m(\u001b[0m\u001b[0my_test\u001b[0m\u001b[1;33m,\u001b[0m \u001b[0mcondition_result\u001b[0m\u001b[1;33m.\u001b[0m\u001b[0mastype\u001b[0m\u001b[1;33m(\u001b[0m\u001b[0mint\u001b[0m\u001b[1;33m)\u001b[0m\u001b[1;33m)\u001b[0m\u001b[1;33m\u001b[0m\u001b[1;33m\u001b[0m\u001b[0m\n\u001b[0m\u001b[0;32m     19\u001b[0m \u001b[0mprint\u001b[0m\u001b[1;33m(\u001b[0m\u001b[1;34mf\"Accuracy: {accuracy:.2f}\"\u001b[0m\u001b[1;33m)\u001b[0m\u001b[1;33m\u001b[0m\u001b[1;33m\u001b[0m\u001b[0m\n\u001b[0;32m     20\u001b[0m \u001b[1;33m\u001b[0m\u001b[0m\n",
      "\u001b[1;32m~\\anaconda3\\lib\\site-packages\\sklearn\\metrics\\_classification.py\u001b[0m in \u001b[0;36maccuracy_score\u001b[1;34m(y_true, y_pred, normalize, sample_weight)\u001b[0m\n\u001b[0;32m    209\u001b[0m \u001b[1;33m\u001b[0m\u001b[0m\n\u001b[0;32m    210\u001b[0m     \u001b[1;31m# Compute accuracy for each possible representation\u001b[0m\u001b[1;33m\u001b[0m\u001b[1;33m\u001b[0m\u001b[0m\n\u001b[1;32m--> 211\u001b[1;33m     \u001b[0my_type\u001b[0m\u001b[1;33m,\u001b[0m \u001b[0my_true\u001b[0m\u001b[1;33m,\u001b[0m \u001b[0my_pred\u001b[0m \u001b[1;33m=\u001b[0m \u001b[0m_check_targets\u001b[0m\u001b[1;33m(\u001b[0m\u001b[0my_true\u001b[0m\u001b[1;33m,\u001b[0m \u001b[0my_pred\u001b[0m\u001b[1;33m)\u001b[0m\u001b[1;33m\u001b[0m\u001b[1;33m\u001b[0m\u001b[0m\n\u001b[0m\u001b[0;32m    212\u001b[0m     \u001b[0mcheck_consistent_length\u001b[0m\u001b[1;33m(\u001b[0m\u001b[0my_true\u001b[0m\u001b[1;33m,\u001b[0m \u001b[0my_pred\u001b[0m\u001b[1;33m,\u001b[0m \u001b[0msample_weight\u001b[0m\u001b[1;33m)\u001b[0m\u001b[1;33m\u001b[0m\u001b[1;33m\u001b[0m\u001b[0m\n\u001b[0;32m    213\u001b[0m     \u001b[1;32mif\u001b[0m \u001b[0my_type\u001b[0m\u001b[1;33m.\u001b[0m\u001b[0mstartswith\u001b[0m\u001b[1;33m(\u001b[0m\u001b[1;34m\"multilabel\"\u001b[0m\u001b[1;33m)\u001b[0m\u001b[1;33m:\u001b[0m\u001b[1;33m\u001b[0m\u001b[1;33m\u001b[0m\u001b[0m\n",
      "\u001b[1;32m~\\anaconda3\\lib\\site-packages\\sklearn\\metrics\\_classification.py\u001b[0m in \u001b[0;36m_check_targets\u001b[1;34m(y_true, y_pred)\u001b[0m\n\u001b[0;32m     82\u001b[0m     \u001b[0my_pred\u001b[0m \u001b[1;33m:\u001b[0m \u001b[0marray\u001b[0m \u001b[1;32mor\u001b[0m \u001b[0mindicator\u001b[0m \u001b[0mmatrix\u001b[0m\u001b[1;33m\u001b[0m\u001b[1;33m\u001b[0m\u001b[0m\n\u001b[0;32m     83\u001b[0m     \"\"\"\n\u001b[1;32m---> 84\u001b[1;33m     \u001b[0mcheck_consistent_length\u001b[0m\u001b[1;33m(\u001b[0m\u001b[0my_true\u001b[0m\u001b[1;33m,\u001b[0m \u001b[0my_pred\u001b[0m\u001b[1;33m)\u001b[0m\u001b[1;33m\u001b[0m\u001b[1;33m\u001b[0m\u001b[0m\n\u001b[0m\u001b[0;32m     85\u001b[0m     \u001b[0mtype_true\u001b[0m \u001b[1;33m=\u001b[0m \u001b[0mtype_of_target\u001b[0m\u001b[1;33m(\u001b[0m\u001b[0my_true\u001b[0m\u001b[1;33m)\u001b[0m\u001b[1;33m\u001b[0m\u001b[1;33m\u001b[0m\u001b[0m\n\u001b[0;32m     86\u001b[0m     \u001b[0mtype_pred\u001b[0m \u001b[1;33m=\u001b[0m \u001b[0mtype_of_target\u001b[0m\u001b[1;33m(\u001b[0m\u001b[0my_pred\u001b[0m\u001b[1;33m)\u001b[0m\u001b[1;33m\u001b[0m\u001b[1;33m\u001b[0m\u001b[0m\n",
      "\u001b[1;32m~\\anaconda3\\lib\\site-packages\\sklearn\\utils\\validation.py\u001b[0m in \u001b[0;36mcheck_consistent_length\u001b[1;34m(*arrays)\u001b[0m\n\u001b[0;32m    327\u001b[0m     \"\"\"\n\u001b[0;32m    328\u001b[0m \u001b[1;33m\u001b[0m\u001b[0m\n\u001b[1;32m--> 329\u001b[1;33m     \u001b[0mlengths\u001b[0m \u001b[1;33m=\u001b[0m \u001b[1;33m[\u001b[0m\u001b[0m_num_samples\u001b[0m\u001b[1;33m(\u001b[0m\u001b[0mX\u001b[0m\u001b[1;33m)\u001b[0m \u001b[1;32mfor\u001b[0m \u001b[0mX\u001b[0m \u001b[1;32min\u001b[0m \u001b[0marrays\u001b[0m \u001b[1;32mif\u001b[0m \u001b[0mX\u001b[0m \u001b[1;32mis\u001b[0m \u001b[1;32mnot\u001b[0m \u001b[1;32mNone\u001b[0m\u001b[1;33m]\u001b[0m\u001b[1;33m\u001b[0m\u001b[1;33m\u001b[0m\u001b[0m\n\u001b[0m\u001b[0;32m    330\u001b[0m     \u001b[0muniques\u001b[0m \u001b[1;33m=\u001b[0m \u001b[0mnp\u001b[0m\u001b[1;33m.\u001b[0m\u001b[0munique\u001b[0m\u001b[1;33m(\u001b[0m\u001b[0mlengths\u001b[0m\u001b[1;33m)\u001b[0m\u001b[1;33m\u001b[0m\u001b[1;33m\u001b[0m\u001b[0m\n\u001b[0;32m    331\u001b[0m     \u001b[1;32mif\u001b[0m \u001b[0mlen\u001b[0m\u001b[1;33m(\u001b[0m\u001b[0muniques\u001b[0m\u001b[1;33m)\u001b[0m \u001b[1;33m>\u001b[0m \u001b[1;36m1\u001b[0m\u001b[1;33m:\u001b[0m\u001b[1;33m\u001b[0m\u001b[1;33m\u001b[0m\u001b[0m\n",
      "\u001b[1;32m~\\anaconda3\\lib\\site-packages\\sklearn\\utils\\validation.py\u001b[0m in \u001b[0;36m<listcomp>\u001b[1;34m(.0)\u001b[0m\n\u001b[0;32m    327\u001b[0m     \"\"\"\n\u001b[0;32m    328\u001b[0m \u001b[1;33m\u001b[0m\u001b[0m\n\u001b[1;32m--> 329\u001b[1;33m     \u001b[0mlengths\u001b[0m \u001b[1;33m=\u001b[0m \u001b[1;33m[\u001b[0m\u001b[0m_num_samples\u001b[0m\u001b[1;33m(\u001b[0m\u001b[0mX\u001b[0m\u001b[1;33m)\u001b[0m \u001b[1;32mfor\u001b[0m \u001b[0mX\u001b[0m \u001b[1;32min\u001b[0m \u001b[0marrays\u001b[0m \u001b[1;32mif\u001b[0m \u001b[0mX\u001b[0m \u001b[1;32mis\u001b[0m \u001b[1;32mnot\u001b[0m \u001b[1;32mNone\u001b[0m\u001b[1;33m]\u001b[0m\u001b[1;33m\u001b[0m\u001b[1;33m\u001b[0m\u001b[0m\n\u001b[0m\u001b[0;32m    330\u001b[0m     \u001b[0muniques\u001b[0m \u001b[1;33m=\u001b[0m \u001b[0mnp\u001b[0m\u001b[1;33m.\u001b[0m\u001b[0munique\u001b[0m\u001b[1;33m(\u001b[0m\u001b[0mlengths\u001b[0m\u001b[1;33m)\u001b[0m\u001b[1;33m\u001b[0m\u001b[1;33m\u001b[0m\u001b[0m\n\u001b[0;32m    331\u001b[0m     \u001b[1;32mif\u001b[0m \u001b[0mlen\u001b[0m\u001b[1;33m(\u001b[0m\u001b[0muniques\u001b[0m\u001b[1;33m)\u001b[0m \u001b[1;33m>\u001b[0m \u001b[1;36m1\u001b[0m\u001b[1;33m:\u001b[0m\u001b[1;33m\u001b[0m\u001b[1;33m\u001b[0m\u001b[0m\n",
      "\u001b[1;32m~\\anaconda3\\lib\\site-packages\\sklearn\\utils\\validation.py\u001b[0m in \u001b[0;36m_num_samples\u001b[1;34m(x)\u001b[0m\n\u001b[0;32m    267\u001b[0m     \u001b[1;32mif\u001b[0m \u001b[0mhasattr\u001b[0m\u001b[1;33m(\u001b[0m\u001b[0mx\u001b[0m\u001b[1;33m,\u001b[0m \u001b[1;34m\"shape\"\u001b[0m\u001b[1;33m)\u001b[0m \u001b[1;32mand\u001b[0m \u001b[0mx\u001b[0m\u001b[1;33m.\u001b[0m\u001b[0mshape\u001b[0m \u001b[1;32mis\u001b[0m \u001b[1;32mnot\u001b[0m \u001b[1;32mNone\u001b[0m\u001b[1;33m:\u001b[0m\u001b[1;33m\u001b[0m\u001b[1;33m\u001b[0m\u001b[0m\n\u001b[0;32m    268\u001b[0m         \u001b[1;32mif\u001b[0m \u001b[0mlen\u001b[0m\u001b[1;33m(\u001b[0m\u001b[0mx\u001b[0m\u001b[1;33m.\u001b[0m\u001b[0mshape\u001b[0m\u001b[1;33m)\u001b[0m \u001b[1;33m==\u001b[0m \u001b[1;36m0\u001b[0m\u001b[1;33m:\u001b[0m\u001b[1;33m\u001b[0m\u001b[1;33m\u001b[0m\u001b[0m\n\u001b[1;32m--> 269\u001b[1;33m             raise TypeError(\n\u001b[0m\u001b[0;32m    270\u001b[0m                 \u001b[1;34m\"Singleton array %r cannot be considered a valid collection.\"\u001b[0m \u001b[1;33m%\u001b[0m \u001b[0mx\u001b[0m\u001b[1;33m\u001b[0m\u001b[1;33m\u001b[0m\u001b[0m\n\u001b[0;32m    271\u001b[0m             )\n",
      "\u001b[1;31mTypeError\u001b[0m: Singleton array 1 cannot be considered a valid collection."
     ]
    }
   ],
   "source": [
    "# Extract predictions from the trace for a specific iteration\n",
    "iteration = 0  # Change this to the desired iteration\n",
    "lead_time_values = trace['lead_time'][iteration]\n",
    "print(\"Lead time values:\", lead_time_values)\n",
    "\n",
    "# Check the shape (length) of y_test and lead_time_values\n",
    "print(\"Length of y_test:\", len(y_test))\n",
    "print(\"Shape of lead_time_values:\", lead_time_values.shape)\n",
    "\n",
    "# Print lead_time_values to understand its content\n",
    "print(\"Values in lead_time_values:\", lead_time_values)\n",
    "\n",
    "# Check if the condition is resulting in a valid array\n",
    "condition_result = lead_time_values < 0.01\n",
    "print(\"Shape of condition_result:\", condition_result.shape)\n",
    "\n",
    "# Evaluate the performance of the Bayesian model\n",
    "accuracy = accuracy_score(y_test, condition_result.astype(int))\n",
    "print(f\"Accuracy: {accuracy:.2f}\")\n",
    "\n",
    "# Print classification report\n",
    "# print(classification_report(y_test, condition_result.astype(int)))\n"
   ]
  },
  {
   "cell_type": "code",
   "execution_count": 72,
   "id": "bc5de83e",
   "metadata": {},
   "outputs": [
    {
     "data": {
      "text/plain": [
       "(25399, 27)"
      ]
     },
     "execution_count": 72,
     "metadata": {},
     "output_type": "execute_result"
    }
   ],
   "source": [
    "X_train.shape"
   ]
  },
  {
   "cell_type": "code",
   "execution_count": 73,
   "id": "c75e1754",
   "metadata": {},
   "outputs": [
    {
     "data": {
      "text/plain": [
       "(10886, 27)"
      ]
     },
     "execution_count": 73,
     "metadata": {},
     "output_type": "execute_result"
    }
   ],
   "source": [
    "X_test.shape"
   ]
  },
  {
   "cell_type": "code",
   "execution_count": 74,
   "id": "9f8f3129",
   "metadata": {},
   "outputs": [
    {
     "data": {
      "text/plain": [
       "(25399,)"
      ]
     },
     "execution_count": 74,
     "metadata": {},
     "output_type": "execute_result"
    }
   ],
   "source": [
    "y_train.shape"
   ]
  },
  {
   "cell_type": "code",
   "execution_count": 75,
   "id": "75e84241",
   "metadata": {},
   "outputs": [
    {
     "data": {
      "text/plain": [
       "(10886,)"
      ]
     },
     "execution_count": 75,
     "metadata": {},
     "output_type": "execute_result"
    }
   ],
   "source": [
    "y_test.shape"
   ]
  },
  {
   "cell_type": "code",
   "execution_count": 77,
   "id": "4b3a9721",
   "metadata": {},
   "outputs": [
    {
     "name": "stdout",
     "output_type": "stream",
     "text": [
      "['Intercept', 'lead_time', 'number_of_adults', 'number_of_children', 'number_of_weekend_nights', 'number_of_week_nights', 'special_requests', 'sd_log__', 'sd']\n"
     ]
    }
   ],
   "source": [
    "# List all variable names in the trace\n",
    "print(trace.varnames)\n"
   ]
  },
  {
   "cell_type": "markdown",
   "id": "61c5e516",
   "metadata": {},
   "source": [
    "#average_price is also important. so need to add next training. ####Binomial-Beta Model####"
   ]
  },
  {
   "cell_type": "code",
   "execution_count": 99,
   "id": "d6a6aca4",
   "metadata": {},
   "outputs": [
    {
     "name": "stderr",
     "output_type": "stream",
     "text": [
      "C:\\Users\\Jishan\\anaconda3\\lib\\site-packages\\deprecat\\classic.py:215: FutureWarning: In v4.0, pm.sample will return an `arviz.InferenceData` object instead of a `MultiTrace` by default. You can pass return_inferencedata=True or return_inferencedata=False to be safe and silence this warning.\n",
      "  return wrapped_(*args_, **kwargs_)\n",
      "Only 100 samples in chain.\n",
      "Auto-assigning NUTS sampler...\n",
      "Initializing NUTS using jitter+adapt_diag...\n",
      "Sequential sampling (2 chains in 1 job)\n",
      "NUTS: [p]\n"
     ]
    },
    {
     "data": {
      "text/html": [
       "\n",
       "<style>\n",
       "    /* Turns off some styling */\n",
       "    progress {\n",
       "        /* gets rid of default border in Firefox and Opera. */\n",
       "        border: none;\n",
       "        /* Needs to be in here for Safari polyfill so background images work as expected. */\n",
       "        background-size: auto;\n",
       "    }\n",
       "    progress:not([value]), progress:not([value])::-webkit-progress-bar {\n",
       "        background: repeating-linear-gradient(45deg, #7e7e7e, #7e7e7e 10px, #5c5c5c 10px, #5c5c5c 20px);\n",
       "    }\n",
       "    .progress-bar-interrupted, .progress-bar-interrupted::-webkit-progress-bar {\n",
       "        background: #F44336;\n",
       "    }\n",
       "</style>\n"
      ],
      "text/plain": [
       "<IPython.core.display.HTML object>"
      ]
     },
     "metadata": {},
     "output_type": "display_data"
    },
    {
     "data": {
      "text/html": [
       "\n",
       "    <div>\n",
       "      <progress value='110' class='' max='110' style='width:300px; height:20px; vertical-align: middle;'></progress>\n",
       "      100.00% [110/110 00:38&lt;00:00 Sampling chain 0, 99 divergences]\n",
       "    </div>\n",
       "    "
      ],
      "text/plain": [
       "<IPython.core.display.HTML object>"
      ]
     },
     "metadata": {},
     "output_type": "display_data"
    },
    {
     "name": "stderr",
     "output_type": "stream",
     "text": [
      "C:\\Users\\Jishan\\anaconda3\\lib\\site-packages\\theano\\scalar\\basic.py:2851: RuntimeWarning: divide by zero encountered in true_divide\n",
      "  return np.float32(1.0) / x\n",
      "C:\\Users\\Jishan\\anaconda3\\lib\\site-packages\\numpy\\core\\fromnumeric.py:86: RuntimeWarning: invalid value encountered in reduce\n",
      "  return ufunc.reduce(obj, axis, dtype, out, **passkwargs)\n",
      "C:\\Users\\Jishan\\anaconda3\\lib\\site-packages\\theano\\tensor\\elemwise.py:826: RuntimeWarning: invalid value encountered in impl (vectorized)\n",
      "  variables = ufunc(*ufunc_args, **ufunc_kwargs)\n",
      "C:\\Users\\Jishan\\anaconda3\\lib\\site-packages\\theano\\scalar\\basic.py:3133: RuntimeWarning: overflow encountered in expm1\n",
      "  return np.expm1(x)\n",
      "C:\\Users\\Jishan\\anaconda3\\lib\\site-packages\\theano\\scalar\\basic.py:2893: RuntimeWarning: divide by zero encountered in log\n",
      "  return np.log(x)\n"
     ]
    },
    {
     "data": {
      "text/html": [
       "\n",
       "<style>\n",
       "    /* Turns off some styling */\n",
       "    progress {\n",
       "        /* gets rid of default border in Firefox and Opera. */\n",
       "        border: none;\n",
       "        /* Needs to be in here for Safari polyfill so background images work as expected. */\n",
       "        background-size: auto;\n",
       "    }\n",
       "    progress:not([value]), progress:not([value])::-webkit-progress-bar {\n",
       "        background: repeating-linear-gradient(45deg, #7e7e7e, #7e7e7e 10px, #5c5c5c 10px, #5c5c5c 20px);\n",
       "    }\n",
       "    .progress-bar-interrupted, .progress-bar-interrupted::-webkit-progress-bar {\n",
       "        background: #F44336;\n",
       "    }\n",
       "</style>\n"
      ],
      "text/plain": [
       "<IPython.core.display.HTML object>"
      ]
     },
     "metadata": {},
     "output_type": "display_data"
    },
    {
     "data": {
      "text/html": [
       "\n",
       "    <div>\n",
       "      <progress value='110' class='' max='110' style='width:300px; height:20px; vertical-align: middle;'></progress>\n",
       "      100.00% [110/110 00:39&lt;00:00 Sampling chain 1, 99 divergences]\n",
       "    </div>\n",
       "    "
      ],
      "text/plain": [
       "<IPython.core.display.HTML object>"
      ]
     },
     "metadata": {},
     "output_type": "display_data"
    },
    {
     "name": "stderr",
     "output_type": "stream",
     "text": [
      "Sampling 2 chains for 10 tune and 100 draw iterations (20 + 200 draws total) took 79 seconds.\n",
      "C:\\Users\\Jishan\\anaconda3\\lib\\site-packages\\arviz\\stats\\diagnostics.py:586: RuntimeWarning: invalid value encountered in double_scalars\n",
      "  (between_chain_variance / within_chain_variance + num_samples - 1) / (num_samples)\n",
      "The chain contains only diverging samples. The model is probably misspecified.\n",
      "The acceptance probability does not match the target. It is 0.0, but should be close to 0.8. Try to increase the number of tuning steps.\n",
      "The chain contains only diverging samples. The model is probably misspecified.\n",
      "The acceptance probability does not match the target. It is 0.0, but should be close to 0.8. Try to increase the number of tuning steps.\n",
      "The rhat statistic is larger than 1.4 for some parameters. The sampler did not converge.\n",
      "The number of effective samples is smaller than 10% for some parameters.\n",
      "Got error No model on context stack. trying to find log_likelihood in translation.\n",
      "C:\\Users\\Jishan\\anaconda3\\lib\\site-packages\\arviz\\data\\io_pymc3_3x.py:98: FutureWarning: Using `from_pymc3` without the model will be deprecated in a future release. Not using the model will return less accurate and less useful results. Make sure you use the model argument or call from_pymc3 within a model context.\n",
      "  warnings.warn(\n",
      "C:\\Users\\Jishan\\anaconda3\\lib\\site-packages\\arviz\\stats\\diagnostics.py:586: RuntimeWarning: invalid value encountered in double_scalars\n",
      "  (between_chain_variance / within_chain_variance + num_samples - 1) / (num_samples)\n",
      "Got error No model on context stack. trying to find log_likelihood in translation.\n",
      "C:\\Users\\Jishan\\anaconda3\\lib\\site-packages\\arviz\\data\\io_pymc3_3x.py:98: FutureWarning: Using `from_pymc3` without the model will be deprecated in a future release. Not using the model will return less accurate and less useful results. Make sure you use the model argument or call from_pymc3 within a model context.\n",
      "  warnings.warn(\n"
     ]
    },
    {
     "name": "stdout",
     "output_type": "stream",
     "text": [
      "    mean     sd  hdi_3%  hdi_97%  mcse_mean  mcse_sd  ess_bulk  ess_tail  \\\n",
      "p  0.525  0.154   0.371    0.679      0.105    0.087       2.0       2.0   \n",
      "\n",
      "          r_hat  \n",
      "p  9.806858e+15  \n"
     ]
    },
    {
     "data": {
      "text/plain": [
       "<AxesSubplot:title={'center':'p'}>"
      ]
     },
     "execution_count": 99,
     "metadata": {},
     "output_type": "execute_result"
    },
    {
     "data": {
      "image/png": "[encoded data removed]",
      "text/plain": [
       "<Figure size 640x480 with 1 Axes>"
      ]
     },
     "metadata": {},
     "output_type": "display_data"
    }
   ],
   "source": [
    "import pymc3 as pm\n",
    "import pandas as pd\n",
    "import arviz as az\n",
    "\n",
    "# Assuming df is your DataFrame\n",
    "\n",
    "# Encode 'booking_status' into binary format\n",
    "df['booking_status'] = (df['booking_status'] == 'Canceled').astype(int)\n",
    "\n",
    "with pm.Model() as bayesian_model:\n",
    "    # Prior for the probability parameter (Beta distribution)\n",
    "    p = pm.Beta('p', alpha=2, beta=2)\n",
    "    \n",
    "    # Likelihood (Binomial distribution)\n",
    "    likelihood = pm.Binomial('likelihood', n=len(df['booking_status']), p=p, observed=df['booking_status'])\n",
    "    \n",
    "    # Sample from the posterior distribution\n",
    "    trace = pm.sample(100, tune=10, cores=1)  # Adjust the number of samples and tuning steps as needed\n",
    "\n",
    "# Check the summary of the Bayesian model\n",
    "print(pm.summary(trace))\n",
    "\n",
    "# Plot posterior distribution\n",
    "az.plot_posterior(trace, var_names=['p'])\n"
   ]
  },
  {
   "cell_type": "code",
   "execution_count": null,
   "id": "94b2d2c5",
   "metadata": {},
   "outputs": [],
   "source": []
  },
  {
   "cell_type": "code",
   "execution_count": 100,
   "id": "42a70133",
   "metadata": {},
   "outputs": [
    {
     "name": "stderr",
     "output_type": "stream",
     "text": [
      "C:\\Users\\Jishan\\anaconda3\\lib\\site-packages\\deprecat\\classic.py:215: FutureWarning: In v4.0, pm.sample will return an `arviz.InferenceData` object instead of a `MultiTrace` by default. You can pass return_inferencedata=True or return_inferencedata=False to be safe and silence this warning.\n",
      "  return wrapped_(*args_, **kwargs_)\n",
      "Only 100 samples in chain.\n",
      "Auto-assigning NUTS sampler...\n",
      "Initializing NUTS using jitter+adapt_diag...\n",
      "Sequential sampling (2 chains in 1 job)\n",
      "NUTS: [p]\n"
     ]
    },
    {
     "data": {
      "text/html": [
       "\n",
       "<style>\n",
       "    /* Turns off some styling */\n",
       "    progress {\n",
       "        /* gets rid of default border in Firefox and Opera. */\n",
       "        border: none;\n",
       "        /* Needs to be in here for Safari polyfill so background images work as expected. */\n",
       "        background-size: auto;\n",
       "    }\n",
       "    progress:not([value]), progress:not([value])::-webkit-progress-bar {\n",
       "        background: repeating-linear-gradient(45deg, #7e7e7e, #7e7e7e 10px, #5c5c5c 10px, #5c5c5c 20px);\n",
       "    }\n",
       "    .progress-bar-interrupted, .progress-bar-interrupted::-webkit-progress-bar {\n",
       "        background: #F44336;\n",
       "    }\n",
       "</style>\n"
      ],
      "text/plain": [
       "<IPython.core.display.HTML object>"
      ]
     },
     "metadata": {},
     "output_type": "display_data"
    },
    {
     "data": {
      "text/html": [
       "\n",
       "    <div>\n",
       "      <progress value='110' class='' max='110' style='width:300px; height:20px; vertical-align: middle;'></progress>\n",
       "      100.00% [110/110 00:41&lt;00:00 Sampling chain 0, 99 divergences]\n",
       "    </div>\n",
       "    "
      ],
      "text/plain": [
       "<IPython.core.display.HTML object>"
      ]
     },
     "metadata": {},
     "output_type": "display_data"
    },
    {
     "name": "stderr",
     "output_type": "stream",
     "text": [
      "C:\\Users\\Jishan\\anaconda3\\lib\\site-packages\\theano\\scalar\\basic.py:2851: RuntimeWarning: divide by zero encountered in true_divide\n",
      "  return np.float32(1.0) / x\n",
      "C:\\Users\\Jishan\\anaconda3\\lib\\site-packages\\numpy\\core\\fromnumeric.py:86: RuntimeWarning: invalid value encountered in reduce\n",
      "  return ufunc.reduce(obj, axis, dtype, out, **passkwargs)\n",
      "C:\\Users\\Jishan\\anaconda3\\lib\\site-packages\\theano\\tensor\\elemwise.py:826: RuntimeWarning: invalid value encountered in impl (vectorized)\n",
      "  variables = ufunc(*ufunc_args, **ufunc_kwargs)\n",
      "C:\\Users\\Jishan\\anaconda3\\lib\\site-packages\\theano\\scalar\\basic.py:3133: RuntimeWarning: overflow encountered in expm1\n",
      "  return np.expm1(x)\n",
      "C:\\Users\\Jishan\\anaconda3\\lib\\site-packages\\theano\\scalar\\basic.py:2893: RuntimeWarning: divide by zero encountered in log\n",
      "  return np.log(x)\n"
     ]
    },
    {
     "data": {
      "text/html": [
       "\n",
       "<style>\n",
       "    /* Turns off some styling */\n",
       "    progress {\n",
       "        /* gets rid of default border in Firefox and Opera. */\n",
       "        border: none;\n",
       "        /* Needs to be in here for Safari polyfill so background images work as expected. */\n",
       "        background-size: auto;\n",
       "    }\n",
       "    progress:not([value]), progress:not([value])::-webkit-progress-bar {\n",
       "        background: repeating-linear-gradient(45deg, #7e7e7e, #7e7e7e 10px, #5c5c5c 10px, #5c5c5c 20px);\n",
       "    }\n",
       "    .progress-bar-interrupted, .progress-bar-interrupted::-webkit-progress-bar {\n",
       "        background: #F44336;\n",
       "    }\n",
       "</style>\n"
      ],
      "text/plain": [
       "<IPython.core.display.HTML object>"
      ]
     },
     "metadata": {},
     "output_type": "display_data"
    },
    {
     "data": {
      "text/html": [
       "\n",
       "    <div>\n",
       "      <progress value='110' class='' max='110' style='width:300px; height:20px; vertical-align: middle;'></progress>\n",
       "      100.00% [110/110 00:40&lt;00:00 Sampling chain 1, 99 divergences]\n",
       "    </div>\n",
       "    "
      ],
      "text/plain": [
       "<IPython.core.display.HTML object>"
      ]
     },
     "metadata": {},
     "output_type": "display_data"
    },
    {
     "name": "stderr",
     "output_type": "stream",
     "text": [
      "Sampling 2 chains for 10 tune and 100 draw iterations (20 + 200 draws total) took 82 seconds.\n",
      "The chain contains only diverging samples. The model is probably misspecified.\n",
      "The acceptance probability does not match the target. It is 0.0, but should be close to 0.8. Try to increase the number of tuning steps.\n",
      "The chain contains only diverging samples. The model is probably misspecified.\n",
      "The acceptance probability does not match the target. It is 0.0, but should be close to 0.8. Try to increase the number of tuning steps.\n",
      "The rhat statistic is larger than 1.4 for some parameters. The sampler did not converge.\n",
      "The number of effective samples is smaller than 10% for some parameters.\n",
      "Got error No model on context stack. trying to find log_likelihood in translation.\n",
      "C:\\Users\\Jishan\\anaconda3\\lib\\site-packages\\arviz\\data\\io_pymc3_3x.py:98: FutureWarning: Using `from_pymc3` without the model will be deprecated in a future release. Not using the model will return less accurate and less useful results. Make sure you use the model argument or call from_pymc3 within a model context.\n",
      "  warnings.warn(\n",
      "Got error No model on context stack. trying to find log_likelihood in translation.\n"
     ]
    },
    {
     "name": "stdout",
     "output_type": "stream",
     "text": [
      "    mean     sd  hdi_3%  hdi_97%  mcse_mean  mcse_sd  ess_bulk  ess_tail  \\\n",
      "p  0.538  0.177   0.361    0.715       0.12      0.1       2.0       2.0   \n",
      "\n",
      "          r_hat  \n",
      "p  9.806858e+15  \n"
     ]
    },
    {
     "name": "stderr",
     "output_type": "stream",
     "text": [
      "C:\\Users\\Jishan\\anaconda3\\lib\\site-packages\\arviz\\data\\io_pymc3_3x.py:98: FutureWarning: Using `from_pymc3` without the model will be deprecated in a future release. Not using the model will return less accurate and less useful results. Make sure you use the model argument or call from_pymc3 within a model context.\n",
      "  warnings.warn(\n"
     ]
    },
    {
     "name": "stdout",
     "output_type": "stream",
     "text": [
      "Probability that 'p' is greater than 0.5: 50.00%\n"
     ]
    },
    {
     "data": {
      "image/png": "[encoded data removed]",
      "text/plain": [
       "<Figure size 640x480 with 1 Axes>"
      ]
     },
     "metadata": {},
     "output_type": "display_data"
    }
   ],
   "source": [
    "import pymc3 as pm\n",
    "import pandas as pd\n",
    "import arviz as az\n",
    "from scipy.stats import percentileofscore\n",
    "\n",
    "# Assuming df is your DataFrame\n",
    "\n",
    "# Encode 'booking_status' into binary format\n",
    "df['booking_status'] = (df['booking_status'] == 'Canceled').astype(int)\n",
    "\n",
    "with pm.Model() as bayesian_model:\n",
    "    # Prior for the probability parameter (Beta distribution)\n",
    "    p = pm.Beta('p', alpha=2, beta=2)\n",
    "    \n",
    "    # Likelihood (Binomial distribution)\n",
    "    likelihood = pm.Binomial('likelihood', n=len(df['booking_status']), p=p, observed=df['booking_status'])\n",
    "    \n",
    "    # Sample from the posterior distribution\n",
    "    trace = pm.sample(100, tune=10, cores=1)  # Adjust the number of samples and tuning steps as needed\n",
    "\n",
    "# Check the summary of the Bayesian model\n",
    "print(pm.summary(trace))\n",
    "\n",
    "# Plot posterior distribution\n",
    "az.plot_posterior(trace, var_names=['p'])\n",
    "\n",
    "# Hypothesis testing\n",
    "# Example: Test if the probability 'p' is greater than 0.5\n",
    "threshold = 0.5\n",
    "posterior_prob_greater_than_threshold = percentileofscore(trace['p'], threshold)\n",
    "print(f\"Probability that 'p' is greater than {threshold}: {100 - posterior_prob_greater_than_threshold:.2f}%\")\n"
   ]
  },
  {
   "cell_type": "code",
   "execution_count": null,
   "id": "b258d7b8",
   "metadata": {},
   "outputs": [],
   "source": []
  },
  {
   "cell_type": "markdown",
   "id": "762a598c",
   "metadata": {},
   "source": [
    "Negative-Binomial-Beta Model"
   ]
  },
  {
   "cell_type": "code",
   "execution_count": 106,
   "id": "d9d732e1",
   "metadata": {},
   "outputs": [
    {
     "name": "stderr",
     "output_type": "stream",
     "text": [
      "C:\\Users\\Jishan\\anaconda3\\lib\\site-packages\\deprecat\\classic.py:215: FutureWarning: In v4.0, pm.sample will return an `arviz.InferenceData` object instead of a `MultiTrace` by default. You can pass return_inferencedata=True or return_inferencedata=False to be safe and silence this warning.\n",
      "  return wrapped_(*args_, **kwargs_)\n",
      "Only 10 samples in chain.\n",
      "Auto-assigning NUTS sampler...\n",
      "Initializing NUTS using jitter+adapt_diag...\n",
      "Sequential sampling (2 chains in 1 job)\n",
      "NUTS: [p]\n"
     ]
    },
    {
     "data": {
      "text/html": [
       "\n",
       "<style>\n",
       "    /* Turns off some styling */\n",
       "    progress {\n",
       "        /* gets rid of default border in Firefox and Opera. */\n",
       "        border: none;\n",
       "        /* Needs to be in here for Safari polyfill so background images work as expected. */\n",
       "        background-size: auto;\n",
       "    }\n",
       "    progress:not([value]), progress:not([value])::-webkit-progress-bar {\n",
       "        background: repeating-linear-gradient(45deg, #7e7e7e, #7e7e7e 10px, #5c5c5c 10px, #5c5c5c 20px);\n",
       "    }\n",
       "    .progress-bar-interrupted, .progress-bar-interrupted::-webkit-progress-bar {\n",
       "        background: #F44336;\n",
       "    }\n",
       "</style>\n"
      ],
      "text/plain": [
       "<IPython.core.display.HTML object>"
      ]
     },
     "metadata": {},
     "output_type": "display_data"
    },
    {
     "data": {
      "text/html": [
       "\n",
       "    <div>\n",
       "      <progress value='20' class='' max='20' style='width:300px; height:20px; vertical-align: middle;'></progress>\n",
       "      100.00% [20/20 00:39&lt;00:00 Sampling chain 0, 0 divergences]\n",
       "    </div>\n",
       "    "
      ],
      "text/plain": [
       "<IPython.core.display.HTML object>"
      ]
     },
     "metadata": {},
     "output_type": "display_data"
    },
    {
     "name": "stderr",
     "output_type": "stream",
     "text": [
      "C:\\Users\\Jishan\\anaconda3\\lib\\site-packages\\theano\\scalar\\basic.py:2851: RuntimeWarning: divide by zero encountered in true_divide\n",
      "  return np.float32(1.0) / x\n",
      "C:\\Users\\Jishan\\anaconda3\\lib\\site-packages\\numpy\\core\\fromnumeric.py:86: RuntimeWarning: invalid value encountered in reduce\n",
      "  return ufunc.reduce(obj, axis, dtype, out, **passkwargs)\n",
      "C:\\Users\\Jishan\\anaconda3\\lib\\site-packages\\theano\\tensor\\elemwise.py:826: RuntimeWarning: invalid value encountered in impl (vectorized)\n",
      "  variables = ufunc(*ufunc_args, **ufunc_kwargs)\n",
      "C:\\Users\\Jishan\\anaconda3\\lib\\site-packages\\theano\\scalar\\basic.py:2893: RuntimeWarning: divide by zero encountered in log\n",
      "  return np.log(x)\n",
      "C:\\Users\\Jishan\\anaconda3\\lib\\site-packages\\theano\\scalar\\basic.py:3133: RuntimeWarning: overflow encountered in expm1\n",
      "  return np.expm1(x)\n",
      "C:\\Users\\Jishan\\anaconda3\\lib\\site-packages\\theano\\scalar\\basic.py:3061: RuntimeWarning: overflow encountered in exp\n",
      "  return np.exp(x)\n"
     ]
    },
    {
     "data": {
      "text/html": [
       "\n",
       "<style>\n",
       "    /* Turns off some styling */\n",
       "    progress {\n",
       "        /* gets rid of default border in Firefox and Opera. */\n",
       "        border: none;\n",
       "        /* Needs to be in here for Safari polyfill so background images work as expected. */\n",
       "        background-size: auto;\n",
       "    }\n",
       "    progress:not([value]), progress:not([value])::-webkit-progress-bar {\n",
       "        background: repeating-linear-gradient(45deg, #7e7e7e, #7e7e7e 10px, #5c5c5c 10px, #5c5c5c 20px);\n",
       "    }\n",
       "    .progress-bar-interrupted, .progress-bar-interrupted::-webkit-progress-bar {\n",
       "        background: #F44336;\n",
       "    }\n",
       "</style>\n"
      ],
      "text/plain": [
       "<IPython.core.display.HTML object>"
      ]
     },
     "metadata": {},
     "output_type": "display_data"
    },
    {
     "data": {
      "text/html": [
       "\n",
       "    <div>\n",
       "      <progress value='20' class='' max='20' style='width:300px; height:20px; vertical-align: middle;'></progress>\n",
       "      100.00% [20/20 00:35&lt;00:00 Sampling chain 1, 0 divergences]\n",
       "    </div>\n",
       "    "
      ],
      "text/plain": [
       "<IPython.core.display.HTML object>"
      ]
     },
     "metadata": {},
     "output_type": "display_data"
    },
    {
     "name": "stderr",
     "output_type": "stream",
     "text": [
      "Sampling 2 chains for 10 tune and 10 draw iterations (20 + 20 draws total) took 76 seconds.\n",
      "C:\\Users\\Jishan\\anaconda3\\lib\\site-packages\\pymc3\\sampling.py:659: UserWarning: The number of samples is too small to check convergence reliably.\n",
      "  warnings.warn(\"The number of samples is too small to check convergence reliably.\")\n",
      "Got error No model on context stack. trying to find log_likelihood in translation.\n",
      "C:\\Users\\Jishan\\anaconda3\\lib\\site-packages\\arviz\\data\\io_pymc3_3x.py:98: FutureWarning: Using `from_pymc3` without the model will be deprecated in a future release. Not using the model will return less accurate and less useful results. Make sure you use the model argument or call from_pymc3 within a model context.\n",
      "  warnings.warn(\n",
      "Got error No model on context stack. trying to find log_likelihood in translation.\n"
     ]
    },
    {
     "name": "stdout",
     "output_type": "stream",
     "text": [
      "   mean     sd  hdi_3%  hdi_97%  mcse_mean  mcse_sd  ess_bulk  ess_tail  r_hat\n",
      "p   0.0  0.001     0.0    0.002        0.0      0.0       6.0      22.0   2.57\n"
     ]
    },
    {
     "name": "stderr",
     "output_type": "stream",
     "text": [
      "C:\\Users\\Jishan\\anaconda3\\lib\\site-packages\\arviz\\data\\io_pymc3_3x.py:98: FutureWarning: Using `from_pymc3` without the model will be deprecated in a future release. Not using the model will return less accurate and less useful results. Make sure you use the model argument or call from_pymc3 within a model context.\n",
      "  warnings.warn(\n"
     ]
    },
    {
     "data": {
      "text/plain": [
       "<AxesSubplot:title={'center':'p'}>"
      ]
     },
     "execution_count": 106,
     "metadata": {},
     "output_type": "execute_result"
    },
    {
     "data": {
      "image/png": "[encoded data removed]",
      "text/plain": [
       "<Figure size 640x480 with 1 Axes>"
      ]
     },
     "metadata": {},
     "output_type": "display_data"
    }
   ],
   "source": [
    "import pymc3 as pm\n",
    "import pandas as pd\n",
    "import arviz as az\n",
    "\n",
    "# Assuming df is your DataFrame\n",
    "\n",
    "# Encode 'booking_status' into binary format\n",
    "df['booking_status'] = (df['booking_status'] == 'Canceled').astype(int)\n",
    "\n",
    "with pm.Model() as bayesian_model:\n",
    "    # Prior for the probability parameter (Beta distribution)\n",
    "    p = pm.Beta('p', alpha=2, beta=2)\n",
    "    \n",
    "    # Negative Binomial likelihood\n",
    "    likelihood = pm.NegativeBinomial('likelihood', mu=p, alpha=2, observed=df['booking_status'])\n",
    "    \n",
    "    # Sample from the posterior distribution\n",
    "    trace = pm.sample(10, tune=10, cores=1)  # Adjust the number of samples and tuning steps as needed\n",
    "\n",
    "# Check the summary of the Bayesian model\n",
    "print(pm.summary(trace))\n",
    "\n",
    "# Plot posterior distribution\n",
    "az.plot_posterior(trace, var_names=['p'])\n"
   ]
  },
  {
   "cell_type": "code",
   "execution_count": null,
   "id": "a29b10a7",
   "metadata": {},
   "outputs": [],
   "source": [
    "import pymc3 as pm\n",
    "import arviz as az\n",
    "import numpy as np\n",
    "\n",
    "# Assuming you already have the trained model (bayesian_model) and trace from the training phase\n",
    "\n",
    "# Assuming test_df is your testing DataFrame\n",
    "# Encode 'booking_status' into binary format\n",
    "test_df['booking_status'] = (test_df['booking_status'] == 'Canceled').astype(int)\n",
    "\n",
    "# Make predictions on the test data using the trained model\n",
    "with bayesian_model:\n",
    "    pm.set_data({'p': trace['p']})  # Set the posterior samples for the probability parameter\n",
    "    \n",
    "    # Negative Binomial likelihood for the test data\n",
    "    test_likelihood = pm.NegativeBinomial('test_likelihood', mu=trace['p'], alpha=2, observed=test_df['booking_status'])\n",
    "    \n",
    "    # Sample from the posterior distribution for the test likelihood\n",
    "    test_trace = pm.sample_posterior_predictive(trace, samples=500)\n",
    "\n",
    "# Evaluate the predictions on the test data as needed\n",
    "# For example, you can calculate summary statistics or use other metrics\n",
    "# based on the test_trace and test_df['booking_status']\n",
    "\n",
    "# Plot posterior predictive checks\n",
    "az.plot_ppc(az.from_pymc3(trace, posterior_predictive=test_trace), figsize=(12, 6), mean=False)\n"
   ]
  },
  {
   "cell_type": "code",
   "execution_count": null,
   "id": "04eadfc0",
   "metadata": {},
   "outputs": [],
   "source": []
  },
  {
   "cell_type": "markdown",
   "id": "9c94631e",
   "metadata": {},
   "source": [
    "Poisson-Gamma Model "
   ]
  },
  {
   "cell_type": "code",
   "execution_count": 102,
   "id": "8477cdf4",
   "metadata": {},
   "outputs": [
    {
     "name": "stderr",
     "output_type": "stream",
     "text": [
      "C:\\Users\\Jishan\\anaconda3\\lib\\site-packages\\deprecat\\classic.py:215: FutureWarning: In v4.0, pm.sample will return an `arviz.InferenceData` object instead of a `MultiTrace` by default. You can pass return_inferencedata=True or return_inferencedata=False to be safe and silence this warning.\n",
      "  return wrapped_(*args_, **kwargs_)\n",
      "Only 10 samples in chain.\n",
      "Auto-assigning NUTS sampler...\n",
      "Initializing NUTS using jitter+adapt_diag...\n",
      "Sequential sampling (2 chains in 1 job)\n",
      "NUTS: [rate]\n"
     ]
    },
    {
     "data": {
      "text/html": [
       "\n",
       "<style>\n",
       "    /* Turns off some styling */\n",
       "    progress {\n",
       "        /* gets rid of default border in Firefox and Opera. */\n",
       "        border: none;\n",
       "        /* Needs to be in here for Safari polyfill so background images work as expected. */\n",
       "        background-size: auto;\n",
       "    }\n",
       "    progress:not([value]), progress:not([value])::-webkit-progress-bar {\n",
       "        background: repeating-linear-gradient(45deg, #7e7e7e, #7e7e7e 10px, #5c5c5c 10px, #5c5c5c 20px);\n",
       "    }\n",
       "    .progress-bar-interrupted, .progress-bar-interrupted::-webkit-progress-bar {\n",
       "        background: #F44336;\n",
       "    }\n",
       "</style>\n"
      ],
      "text/plain": [
       "<IPython.core.display.HTML object>"
      ]
     },
     "metadata": {},
     "output_type": "display_data"
    },
    {
     "data": {
      "text/html": [
       "\n",
       "    <div>\n",
       "      <progress value='20' class='' max='20' style='width:300px; height:20px; vertical-align: middle;'></progress>\n",
       "      100.00% [20/20 00:10&lt;00:00 Sampling chain 0, 0 divergences]\n",
       "    </div>\n",
       "    "
      ],
      "text/plain": [
       "<IPython.core.display.HTML object>"
      ]
     },
     "metadata": {},
     "output_type": "display_data"
    },
    {
     "name": "stderr",
     "output_type": "stream",
     "text": [
      "C:\\Users\\Jishan\\anaconda3\\lib\\site-packages\\theano\\scalar\\basic.py:2893: RuntimeWarning: divide by zero encountered in log\n",
      "  return np.log(x)\n"
     ]
    },
    {
     "data": {
      "text/html": [
       "\n",
       "<style>\n",
       "    /* Turns off some styling */\n",
       "    progress {\n",
       "        /* gets rid of default border in Firefox and Opera. */\n",
       "        border: none;\n",
       "        /* Needs to be in here for Safari polyfill so background images work as expected. */\n",
       "        background-size: auto;\n",
       "    }\n",
       "    progress:not([value]), progress:not([value])::-webkit-progress-bar {\n",
       "        background: repeating-linear-gradient(45deg, #7e7e7e, #7e7e7e 10px, #5c5c5c 10px, #5c5c5c 20px);\n",
       "    }\n",
       "    .progress-bar-interrupted, .progress-bar-interrupted::-webkit-progress-bar {\n",
       "        background: #F44336;\n",
       "    }\n",
       "</style>\n"
      ],
      "text/plain": [
       "<IPython.core.display.HTML object>"
      ]
     },
     "metadata": {},
     "output_type": "display_data"
    },
    {
     "data": {
      "text/html": [
       "\n",
       "    <div>\n",
       "      <progress value='20' class='' max='20' style='width:300px; height:20px; vertical-align: middle;'></progress>\n",
       "      100.00% [20/20 00:29&lt;00:00 Sampling chain 1, 0 divergences]\n",
       "    </div>\n",
       "    "
      ],
      "text/plain": [
       "<IPython.core.display.HTML object>"
      ]
     },
     "metadata": {},
     "output_type": "display_data"
    },
    {
     "name": "stderr",
     "output_type": "stream",
     "text": [
      "Sampling 2 chains for 10 tune and 10 draw iterations (20 + 20 draws total) took 39 seconds.\n",
      "C:\\Users\\Jishan\\anaconda3\\lib\\site-packages\\pymc3\\sampling.py:659: UserWarning: The number of samples is too small to check convergence reliably.\n",
      "  warnings.warn(\"The number of samples is too small to check convergence reliably.\")\n",
      "Got error No model on context stack. trying to find log_likelihood in translation.\n",
      "C:\\Users\\Jishan\\anaconda3\\lib\\site-packages\\arviz\\data\\io_pymc3_3x.py:98: FutureWarning: Using `from_pymc3` without the model will be deprecated in a future release. Not using the model will return less accurate and less useful results. Make sure you use the model argument or call from_pymc3 within a model context.\n",
      "  warnings.warn(\n",
      "Got error No model on context stack. trying to find log_likelihood in translation.\n"
     ]
    },
    {
     "name": "stdout",
     "output_type": "stream",
     "text": [
      "       mean     sd  hdi_3%  hdi_97%  mcse_mean  mcse_sd  ess_bulk  ess_tail  \\\n",
      "rate  0.443  0.459   0.001    0.992      0.205    0.154       5.0      22.0   \n",
      "\n",
      "      r_hat  \n",
      "rate    3.1  \n"
     ]
    },
    {
     "name": "stderr",
     "output_type": "stream",
     "text": [
      "C:\\Users\\Jishan\\anaconda3\\lib\\site-packages\\arviz\\data\\io_pymc3_3x.py:98: FutureWarning: Using `from_pymc3` without the model will be deprecated in a future release. Not using the model will return less accurate and less useful results. Make sure you use the model argument or call from_pymc3 within a model context.\n",
      "  warnings.warn(\n"
     ]
    },
    {
     "data": {
      "text/plain": [
       "<AxesSubplot:title={'center':'rate'}>"
      ]
     },
     "execution_count": 102,
     "metadata": {},
     "output_type": "execute_result"
    },
    {
     "data": {
      "image/png": "[encoded data removed]",
      "text/plain": [
       "<Figure size 640x480 with 1 Axes>"
      ]
     },
     "metadata": {},
     "output_type": "display_data"
    }
   ],
   "source": [
    "import pymc3 as pm\n",
    "import pandas as pd\n",
    "import arviz as az\n",
    "\n",
    "# Assuming df is your DataFrame\n",
    "\n",
    "# Encode 'booking_status' into binary format\n",
    "df['booking_status'] = (df['booking_status'] == 'Canceled').astype(int)\n",
    "\n",
    "with pm.Model() as bayesian_model:\n",
    "    # Prior for the rate parameter (Gamma distribution)\n",
    "    rate = pm.Gamma('rate', alpha=2, beta=2)\n",
    "    \n",
    "    # Poisson likelihood\n",
    "    likelihood = pm.Poisson('likelihood', mu=rate, observed=df['booking_status'])\n",
    "    \n",
    "    # Sample from the posterior distribution\n",
    "    trace = pm.sample(10, tune=10, cores=1)  # Adjust the number of samples and tuning steps as needed\n",
    "\n",
    "# Check the summary of the Bayesian model\n",
    "print(pm.summary(trace))\n",
    "\n",
    "# Plot posterior distribution\n",
    "az.plot_posterior(trace, var_names=['rate'])\n"
   ]
  },
  {
   "cell_type": "code",
   "execution_count": 103,
   "id": "0a63f83c",
   "metadata": {},
   "outputs": [
    {
     "ename": "NameError",
     "evalue": "name 'test_df' is not defined",
     "output_type": "error",
     "traceback": [
      "\u001b[1;31m---------------------------------------------------------------------------\u001b[0m",
      "\u001b[1;31mNameError\u001b[0m                                 Traceback (most recent call last)",
      "\u001b[1;32m~\\AppData\\Local\\Temp\\ipykernel_20348\\2036003662.py\u001b[0m in \u001b[0;36m<module>\u001b[1;34m\u001b[0m\n\u001b[0;32m      7\u001b[0m \u001b[1;31m# Assuming test_df is your testing DataFrame\u001b[0m\u001b[1;33m\u001b[0m\u001b[1;33m\u001b[0m\u001b[0m\n\u001b[0;32m      8\u001b[0m \u001b[1;31m# Encode 'booking_status' into binary format\u001b[0m\u001b[1;33m\u001b[0m\u001b[1;33m\u001b[0m\u001b[0m\n\u001b[1;32m----> 9\u001b[1;33m \u001b[0mtest_df\u001b[0m\u001b[1;33m[\u001b[0m\u001b[1;34m'booking_status'\u001b[0m\u001b[1;33m]\u001b[0m \u001b[1;33m=\u001b[0m \u001b[1;33m(\u001b[0m\u001b[0mtest_df\u001b[0m\u001b[1;33m[\u001b[0m\u001b[1;34m'booking_status'\u001b[0m\u001b[1;33m]\u001b[0m \u001b[1;33m==\u001b[0m \u001b[1;34m'Canceled'\u001b[0m\u001b[1;33m)\u001b[0m\u001b[1;33m.\u001b[0m\u001b[0mastype\u001b[0m\u001b[1;33m(\u001b[0m\u001b[0mint\u001b[0m\u001b[1;33m)\u001b[0m\u001b[1;33m\u001b[0m\u001b[1;33m\u001b[0m\u001b[0m\n\u001b[0m\u001b[0;32m     10\u001b[0m \u001b[1;33m\u001b[0m\u001b[0m\n\u001b[0;32m     11\u001b[0m \u001b[1;31m# Make predictions on the test data using the trained model\u001b[0m\u001b[1;33m\u001b[0m\u001b[1;33m\u001b[0m\u001b[0m\n",
      "\u001b[1;31mNameError\u001b[0m: name 'test_df' is not defined"
     ]
    }
   ],
   "source": [
    "import pymc3 as pm\n",
    "import arviz as az\n",
    "import numpy as np\n",
    "\n",
    "# Assuming you already have the trained model (bayesian_model) and trace from the training phase\n",
    "\n",
    "# Assuming test_df is your testing DataFrame\n",
    "# Encode 'booking_status' into binary format\n",
    "test_df['booking_status'] = (test_df['booking_status'] == 'Canceled').astype(int)\n",
    "\n",
    "# Make predictions on the test data using the trained model\n",
    "with bayesian_model:\n",
    "    pm.set_data({'rate': trace['rate']})  # Set the posterior samples for the rate parameter\n",
    "    \n",
    "    # Poisson likelihood for the test data\n",
    "    test_likelihood = pm.Poisson('test_likelihood', mu=trace['rate'], observed=test_df['booking_status'])\n",
    "    \n",
    "    # Sample from the posterior distribution for the test likelihood\n",
    "    test_trace = pm.sample_posterior_predictive(trace, samples=500)\n",
    "\n",
    "# Evaluate the predictions on the test data as needed\n",
    "# For example, you can calculate summary statistics or use other metrics\n",
    "# based on the test_trace and test_df['booking_status']\n",
    "\n",
    "# Plot posterior predictive checks\n",
    "az.plot_ppc(az.from_pymc3(trace, posterior_predictive=test_trace), figsize=(12, 6), mean=False)\n"
   ]
  },
  {
   "cell_type": "markdown",
   "id": "74c8df5c",
   "metadata": {},
   "source": [
    "Exponential-Gamma Model"
   ]
  },
  {
   "cell_type": "code",
   "execution_count": 104,
   "id": "b4029ad8",
   "metadata": {},
   "outputs": [
    {
     "name": "stderr",
     "output_type": "stream",
     "text": [
      "C:\\Users\\Jishan\\anaconda3\\lib\\site-packages\\theano\\tensor\\elemwise.py:826: RuntimeWarning: invalid value encountered in log\n",
      "  variables = ufunc(*ufunc_args, **ufunc_kwargs)\n",
      "C:\\Users\\Jishan\\anaconda3\\lib\\site-packages\\deprecat\\classic.py:215: FutureWarning: In v4.0, pm.sample will return an `arviz.InferenceData` object instead of a `MultiTrace` by default. You can pass return_inferencedata=True or return_inferencedata=False to be safe and silence this warning.\n",
      "  return wrapped_(*args_, **kwargs_)\n",
      "Only 10 samples in chain.\n",
      "Auto-assigning NUTS sampler...\n",
      "Initializing NUTS using jitter+adapt_diag...\n",
      "Sequential sampling (2 chains in 1 job)\n",
      "NUTS: [rate]\n"
     ]
    },
    {
     "data": {
      "text/html": [
       "\n",
       "<style>\n",
       "    /* Turns off some styling */\n",
       "    progress {\n",
       "        /* gets rid of default border in Firefox and Opera. */\n",
       "        border: none;\n",
       "        /* Needs to be in here for Safari polyfill so background images work as expected. */\n",
       "        background-size: auto;\n",
       "    }\n",
       "    progress:not([value]), progress:not([value])::-webkit-progress-bar {\n",
       "        background: repeating-linear-gradient(45deg, #7e7e7e, #7e7e7e 10px, #5c5c5c 10px, #5c5c5c 20px);\n",
       "    }\n",
       "    .progress-bar-interrupted, .progress-bar-interrupted::-webkit-progress-bar {\n",
       "        background: #F44336;\n",
       "    }\n",
       "</style>\n"
      ],
      "text/plain": [
       "<IPython.core.display.HTML object>"
      ]
     },
     "metadata": {},
     "output_type": "display_data"
    },
    {
     "data": {
      "text/html": [
       "\n",
       "    <div>\n",
       "      <progress value='20' class='' max='20' style='width:300px; height:20px; vertical-align: middle;'></progress>\n",
       "      100.00% [20/20 00:00&lt;00:00 Sampling chain 0, 1 divergences]\n",
       "    </div>\n",
       "    "
      ],
      "text/plain": [
       "<IPython.core.display.HTML object>"
      ]
     },
     "metadata": {},
     "output_type": "display_data"
    },
    {
     "name": "stderr",
     "output_type": "stream",
     "text": [
      "C:\\Users\\Jishan\\anaconda3\\lib\\site-packages\\theano\\tensor\\elemwise.py:826: RuntimeWarning: overflow encountered in exp\n",
      "  variables = ufunc(*ufunc_args, **ufunc_kwargs)\n",
      "C:\\Users\\Jishan\\anaconda3\\lib\\site-packages\\theano\\scalar\\basic.py:1813: RuntimeWarning: invalid value encountered in double_scalars\n",
      "  return sum(inputs)\n"
     ]
    },
    {
     "data": {
      "text/html": [
       "\n",
       "<style>\n",
       "    /* Turns off some styling */\n",
       "    progress {\n",
       "        /* gets rid of default border in Firefox and Opera. */\n",
       "        border: none;\n",
       "        /* Needs to be in here for Safari polyfill so background images work as expected. */\n",
       "        background-size: auto;\n",
       "    }\n",
       "    progress:not([value]), progress:not([value])::-webkit-progress-bar {\n",
       "        background: repeating-linear-gradient(45deg, #7e7e7e, #7e7e7e 10px, #5c5c5c 10px, #5c5c5c 20px);\n",
       "    }\n",
       "    .progress-bar-interrupted, .progress-bar-interrupted::-webkit-progress-bar {\n",
       "        background: #F44336;\n",
       "    }\n",
       "</style>\n"
      ],
      "text/plain": [
       "<IPython.core.display.HTML object>"
      ]
     },
     "metadata": {},
     "output_type": "display_data"
    },
    {
     "data": {
      "text/html": [
       "\n",
       "    <div>\n",
       "      <progress value='20' class='' max='20' style='width:300px; height:20px; vertical-align: middle;'></progress>\n",
       "      100.00% [20/20 00:00&lt;00:00 Sampling chain 1, 9 divergences]\n",
       "    </div>\n",
       "    "
      ],
      "text/plain": [
       "<IPython.core.display.HTML object>"
      ]
     },
     "metadata": {},
     "output_type": "display_data"
    },
    {
     "name": "stderr",
     "output_type": "stream",
     "text": [
      "Sampling 2 chains for 10 tune and 10 draw iterations (20 + 20 draws total) took 0 seconds.\n",
      "C:\\Users\\Jishan\\anaconda3\\lib\\site-packages\\pymc3\\sampling.py:659: UserWarning: The number of samples is too small to check convergence reliably.\n",
      "  warnings.warn(\"The number of samples is too small to check convergence reliably.\")\n",
      "There were 2 divergences after tuning. Increase `target_accept` or reparameterize.\n",
      "There were 11 divergences after tuning. Increase `target_accept` or reparameterize.\n",
      "The acceptance probability does not match the target. It is 0.1, but should be close to 0.8. Try to increase the number of tuning steps.\n",
      "Got error No model on context stack. trying to find log_likelihood in translation.\n",
      "C:\\Users\\Jishan\\anaconda3\\lib\\site-packages\\arviz\\data\\io_pymc3_3x.py:98: FutureWarning: Using `from_pymc3` without the model will be deprecated in a future release. Not using the model will return less accurate and less useful results. Make sure you use the model argument or call from_pymc3 within a model context.\n",
      "  warnings.warn(\n",
      "Got error No model on context stack. trying to find log_likelihood in translation.\n",
      "C:\\Users\\Jishan\\anaconda3\\lib\\site-packages\\arviz\\data\\io_pymc3_3x.py:98: FutureWarning: Using `from_pymc3` without the model will be deprecated in a future release. Not using the model will return less accurate and less useful results. Make sure you use the model argument or call from_pymc3 within a model context.\n",
      "  warnings.warn(\n"
     ]
    },
    {
     "name": "stdout",
     "output_type": "stream",
     "text": [
      "          mean        sd   hdi_3%   hdi_97%  mcse_mean   mcse_sd  ess_bulk  \\\n",
      "rate  6744.077  7810.368  570.496  19189.46   3456.669  2607.284       5.0   \n",
      "\n",
      "      ess_tail  r_hat  \n",
      "rate       5.0   3.81  \n"
     ]
    },
    {
     "data": {
      "text/plain": [
       "<AxesSubplot:title={'center':'rate'}>"
      ]
     },
     "execution_count": 104,
     "metadata": {},
     "output_type": "execute_result"
    },
    {
     "data": {
      "image/png": "[encoded data removed]",
      "text/plain": [
       "<Figure size 640x480 with 1 Axes>"
      ]
     },
     "metadata": {},
     "output_type": "display_data"
    }
   ],
   "source": [
    "import pymc3 as pm\n",
    "import pandas as pd\n",
    "import arviz as az\n",
    "\n",
    "# Assuming df is your DataFrame\n",
    "\n",
    "# Encode 'booking_status' into binary format\n",
    "df['booking_status'] = (df['booking_status'] == 'Canceled').astype(int)\n",
    "\n",
    "with pm.Model() as bayesian_model:\n",
    "    # Prior for the rate parameter (Gamma distribution)\n",
    "    rate = pm.Gamma('rate', alpha=2, beta=2)\n",
    "    \n",
    "    # Exponential likelihood\n",
    "    likelihood = pm.Exponential('likelihood', lam=rate, observed=df['booking_status'])\n",
    "    \n",
    "    # Sample from the posterior distribution\n",
    "    trace = pm.sample(10, tune=10, cores=1)  # Adjust the number of samples and tuning steps as needed\n",
    "\n",
    "# Check the summary of the Bayesian model\n",
    "print(pm.summary(trace))\n",
    "\n",
    "# Plot posterior distribution\n",
    "az.plot_posterior(trace, var_names=['rate'])\n"
   ]
  },
  {
   "cell_type": "code",
   "execution_count": 105,
   "id": "1f927a1b",
   "metadata": {},
   "outputs": [
    {
     "ename": "NameError",
     "evalue": "name 'test_df' is not defined",
     "output_type": "error",
     "traceback": [
      "\u001b[1;31m---------------------------------------------------------------------------\u001b[0m",
      "\u001b[1;31mNameError\u001b[0m                                 Traceback (most recent call last)",
      "\u001b[1;32m~\\AppData\\Local\\Temp\\ipykernel_20348\\3777684887.py\u001b[0m in \u001b[0;36m<module>\u001b[1;34m\u001b[0m\n\u001b[0;32m      7\u001b[0m \u001b[1;31m# Assuming test_df is your testing DataFrame\u001b[0m\u001b[1;33m\u001b[0m\u001b[1;33m\u001b[0m\u001b[0m\n\u001b[0;32m      8\u001b[0m \u001b[1;31m# Encode 'booking_status' into binary format\u001b[0m\u001b[1;33m\u001b[0m\u001b[1;33m\u001b[0m\u001b[0m\n\u001b[1;32m----> 9\u001b[1;33m \u001b[0mtest_df\u001b[0m\u001b[1;33m[\u001b[0m\u001b[1;34m'booking_status'\u001b[0m\u001b[1;33m]\u001b[0m \u001b[1;33m=\u001b[0m \u001b[1;33m(\u001b[0m\u001b[0mtest_df\u001b[0m\u001b[1;33m[\u001b[0m\u001b[1;34m'booking_status'\u001b[0m\u001b[1;33m]\u001b[0m \u001b[1;33m==\u001b[0m \u001b[1;34m'Canceled'\u001b[0m\u001b[1;33m)\u001b[0m\u001b[1;33m.\u001b[0m\u001b[0mastype\u001b[0m\u001b[1;33m(\u001b[0m\u001b[0mint\u001b[0m\u001b[1;33m)\u001b[0m\u001b[1;33m\u001b[0m\u001b[1;33m\u001b[0m\u001b[0m\n\u001b[0m\u001b[0;32m     10\u001b[0m \u001b[1;33m\u001b[0m\u001b[0m\n\u001b[0;32m     11\u001b[0m \u001b[1;31m# Make predictions on the test data using the trained model\u001b[0m\u001b[1;33m\u001b[0m\u001b[1;33m\u001b[0m\u001b[0m\n",
      "\u001b[1;31mNameError\u001b[0m: name 'test_df' is not defined"
     ]
    }
   ],
   "source": [
    "import pymc3 as pm\n",
    "import arviz as az\n",
    "import numpy as np\n",
    "\n",
    "# Assuming you already have the trained model (bayesian_model) and trace from the training phase\n",
    "\n",
    "# Assuming test_df is your testing DataFrame\n",
    "# Encode 'booking_status' into binary format\n",
    "test_df['booking_status'] = (test_df['booking_status'] == 'Canceled').astype(int)\n",
    "\n",
    "# Make predictions on the test data using the trained model\n",
    "with bayesian_model:\n",
    "    pm.set_data({'rate': trace['rate']})  # Set the posterior samples for the rate parameter\n",
    "    \n",
    "    # Exponential likelihood for the test data\n",
    "    test_likelihood = pm.Exponential('test_likelihood', lam=trace['rate'], observed=test_df['booking_status'])\n",
    "    \n",
    "    # Sample from the posterior distribution for the test likelihood\n",
    "    test_trace = pm.sample_posterior_predictive(trace, samples=500)\n",
    "\n",
    "# Evaluate the predictions on the test data as needed\n",
    "# For example, you can calculate summary statistics or use other metrics\n",
    "# based on the test_trace and test_df['booking_status']\n",
    "\n",
    "# Plot posterior predictive checks\n",
    "az.plot_ppc(az.from_pymc3(trace, posterior_predictive=test_trace), figsize=(12, 6), mean=False)"
   ]
  },
  {
   "cell_type": "code",
   "execution_count": null,
   "id": "9f45ef78",
   "metadata": {},
   "outputs": [],
   "source": []
  },
  {
   "cell_type": "code",
   "execution_count": null,
   "id": "c3604d6f",
   "metadata": {},
   "outputs": [],
   "source": []
  }
 ],
 "metadata": {
  "kernelspec": {
   "display_name": "Python 3 (ipykernel)",
   "language": "python",
   "name": "python3"
  },
  "language_info": {
   "codemirror_mode": {
    "name": "ipython",
    "version": 3
   },
   "file_extension": ".py",
   "mimetype": "text/x-python",
   "name": "python",
   "nbconvert_exporter": "python",
   "pygments_lexer": "ipython3",
   "version": "3.9.13"
  }
 },
 "nbformat": 4,
 "nbformat_minor": 5
}
